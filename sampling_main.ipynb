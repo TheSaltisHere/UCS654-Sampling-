{
  "cells": [
    {
      "cell_type": "markdown",
      "metadata": {
        "id": "poQYH1-WzSPk"
      },
      "source": [
        "# Importing Libraries"
      ]
    },
    {
      "cell_type": "code",
      "execution_count": 87,
      "metadata": {
        "id": "RRaNjitlzV0e"
      },
      "outputs": [],
      "source": [
        "import pandas as pd\n",
        "import numpy as np\n",
        "import random\n",
        "from sklearn.metrics import accuracy_score   "
      ]
    },
    {
      "cell_type": "markdown",
      "metadata": {
        "id": "UioAoqTTzgi5"
      },
      "source": [
        "# Data Pre-processing"
      ]
    },
    {
      "cell_type": "code",
      "execution_count": 88,
      "metadata": {
        "id": "E9P004V0zk2q"
      },
      "outputs": [],
      "source": [
        "dataset = pd.read_csv('Creditcard_data.csv')"
      ]
    },
    {
      "cell_type": "code",
      "execution_count": 89,
      "metadata": {
        "colab": {
          "base_uri": "https://localhost:8080/"
        },
        "id": "qN5ohSrS0fzI",
        "outputId": "0b94d93d-ac98-48ed-e5b8-a7c708770cb9"
      },
      "outputs": [
        {
          "name": "stdout",
          "output_type": "stream",
          "text": [
            "<class 'pandas.core.frame.DataFrame'>\n",
            "RangeIndex: 772 entries, 0 to 771\n",
            "Data columns (total 31 columns):\n",
            " #   Column  Non-Null Count  Dtype  \n",
            "---  ------  --------------  -----  \n",
            " 0   Time    772 non-null    int64  \n",
            " 1   V1      772 non-null    float64\n",
            " 2   V2      772 non-null    float64\n",
            " 3   V3      772 non-null    float64\n",
            " 4   V4      772 non-null    float64\n",
            " 5   V5      772 non-null    float64\n",
            " 6   V6      772 non-null    float64\n",
            " 7   V7      772 non-null    float64\n",
            " 8   V8      772 non-null    float64\n",
            " 9   V9      772 non-null    float64\n",
            " 10  V10     772 non-null    float64\n",
            " 11  V11     772 non-null    float64\n",
            " 12  V12     772 non-null    float64\n",
            " 13  V13     772 non-null    float64\n",
            " 14  V14     772 non-null    float64\n",
            " 15  V15     772 non-null    float64\n",
            " 16  V16     772 non-null    float64\n",
            " 17  V17     772 non-null    float64\n",
            " 18  V18     772 non-null    float64\n",
            " 19  V19     772 non-null    float64\n",
            " 20  V20     772 non-null    float64\n",
            " 21  V21     772 non-null    float64\n",
            " 22  V22     772 non-null    float64\n",
            " 23  V23     772 non-null    float64\n",
            " 24  V24     772 non-null    float64\n",
            " 25  V25     772 non-null    float64\n",
            " 26  V26     772 non-null    float64\n",
            " 27  V27     772 non-null    float64\n",
            " 28  V28     772 non-null    float64\n",
            " 29  Amount  772 non-null    float64\n",
            " 30  Class   772 non-null    int64  \n",
            "dtypes: float64(29), int64(2)\n",
            "memory usage: 187.1 KB\n"
          ]
        }
      ],
      "source": [
        "dataset.info()"
      ]
    },
    {
      "cell_type": "code",
      "execution_count": 90,
      "metadata": {
        "colab": {
          "base_uri": "https://localhost:8080/",
          "height": 393
        },
        "id": "BotfjuPl0jbR",
        "outputId": "3af4812c-9c2f-48c4-aaa1-ea368050c329"
      },
      "outputs": [
        {
          "data": {
            "text/html": [
              "<div>\n",
              "<style scoped>\n",
              "    .dataframe tbody tr th:only-of-type {\n",
              "        vertical-align: middle;\n",
              "    }\n",
              "\n",
              "    .dataframe tbody tr th {\n",
              "        vertical-align: top;\n",
              "    }\n",
              "\n",
              "    .dataframe thead th {\n",
              "        text-align: right;\n",
              "    }\n",
              "</style>\n",
              "<table border=\"1\" class=\"dataframe\">\n",
              "  <thead>\n",
              "    <tr style=\"text-align: right;\">\n",
              "      <th></th>\n",
              "      <th>Time</th>\n",
              "      <th>V1</th>\n",
              "      <th>V2</th>\n",
              "      <th>V3</th>\n",
              "      <th>V4</th>\n",
              "      <th>V5</th>\n",
              "      <th>V6</th>\n",
              "      <th>V7</th>\n",
              "      <th>V8</th>\n",
              "      <th>V9</th>\n",
              "      <th>...</th>\n",
              "      <th>V21</th>\n",
              "      <th>V22</th>\n",
              "      <th>V23</th>\n",
              "      <th>V24</th>\n",
              "      <th>V25</th>\n",
              "      <th>V26</th>\n",
              "      <th>V27</th>\n",
              "      <th>V28</th>\n",
              "      <th>Amount</th>\n",
              "      <th>Class</th>\n",
              "    </tr>\n",
              "  </thead>\n",
              "  <tbody>\n",
              "    <tr>\n",
              "      <th>count</th>\n",
              "      <td>772.000000</td>\n",
              "      <td>772.000000</td>\n",
              "      <td>772.000000</td>\n",
              "      <td>772.000000</td>\n",
              "      <td>772.000000</td>\n",
              "      <td>772.000000</td>\n",
              "      <td>772.000000</td>\n",
              "      <td>772.000000</td>\n",
              "      <td>772.000000</td>\n",
              "      <td>772.000000</td>\n",
              "      <td>...</td>\n",
              "      <td>772.000000</td>\n",
              "      <td>772.000000</td>\n",
              "      <td>772.000000</td>\n",
              "      <td>772.000000</td>\n",
              "      <td>772.000000</td>\n",
              "      <td>772.000000</td>\n",
              "      <td>772.000000</td>\n",
              "      <td>772.000000</td>\n",
              "      <td>772.000000</td>\n",
              "      <td>772.000000</td>\n",
              "    </tr>\n",
              "    <tr>\n",
              "      <th>mean</th>\n",
              "      <td>283.005181</td>\n",
              "      <td>-0.176963</td>\n",
              "      <td>0.217169</td>\n",
              "      <td>0.875172</td>\n",
              "      <td>0.285628</td>\n",
              "      <td>-0.005029</td>\n",
              "      <td>0.159081</td>\n",
              "      <td>0.123329</td>\n",
              "      <td>-0.057547</td>\n",
              "      <td>-0.030384</td>\n",
              "      <td>...</td>\n",
              "      <td>0.004888</td>\n",
              "      <td>-0.096995</td>\n",
              "      <td>-0.040344</td>\n",
              "      <td>-0.002501</td>\n",
              "      <td>0.114337</td>\n",
              "      <td>0.022782</td>\n",
              "      <td>0.023353</td>\n",
              "      <td>-0.017045</td>\n",
              "      <td>68.668290</td>\n",
              "      <td>0.011658</td>\n",
              "    </tr>\n",
              "    <tr>\n",
              "      <th>std</th>\n",
              "      <td>171.834196</td>\n",
              "      <td>1.294724</td>\n",
              "      <td>1.173401</td>\n",
              "      <td>1.031878</td>\n",
              "      <td>1.258758</td>\n",
              "      <td>1.098143</td>\n",
              "      <td>1.225682</td>\n",
              "      <td>0.852075</td>\n",
              "      <td>0.830144</td>\n",
              "      <td>0.878183</td>\n",
              "      <td>...</td>\n",
              "      <td>0.609335</td>\n",
              "      <td>0.607228</td>\n",
              "      <td>0.358724</td>\n",
              "      <td>0.621507</td>\n",
              "      <td>0.429667</td>\n",
              "      <td>0.484227</td>\n",
              "      <td>0.300934</td>\n",
              "      <td>0.278332</td>\n",
              "      <td>197.838269</td>\n",
              "      <td>0.107411</td>\n",
              "    </tr>\n",
              "    <tr>\n",
              "      <th>min</th>\n",
              "      <td>0.000000</td>\n",
              "      <td>-6.093248</td>\n",
              "      <td>-12.114213</td>\n",
              "      <td>-5.694973</td>\n",
              "      <td>-4.657545</td>\n",
              "      <td>-6.631951</td>\n",
              "      <td>-3.498447</td>\n",
              "      <td>-4.925568</td>\n",
              "      <td>-7.494658</td>\n",
              "      <td>-2.770089</td>\n",
              "      <td>...</td>\n",
              "      <td>-4.134608</td>\n",
              "      <td>-2.776923</td>\n",
              "      <td>-3.553381</td>\n",
              "      <td>-1.867208</td>\n",
              "      <td>-1.389079</td>\n",
              "      <td>-1.243924</td>\n",
              "      <td>-2.377933</td>\n",
              "      <td>-2.735623</td>\n",
              "      <td>0.000000</td>\n",
              "      <td>0.000000</td>\n",
              "    </tr>\n",
              "    <tr>\n",
              "      <th>25%</th>\n",
              "      <td>126.500000</td>\n",
              "      <td>-0.896416</td>\n",
              "      <td>-0.174684</td>\n",
              "      <td>0.308677</td>\n",
              "      <td>-0.460058</td>\n",
              "      <td>-0.534567</td>\n",
              "      <td>-0.630717</td>\n",
              "      <td>-0.296289</td>\n",
              "      <td>-0.167880</td>\n",
              "      <td>-0.517068</td>\n",
              "      <td>...</td>\n",
              "      <td>-0.213746</td>\n",
              "      <td>-0.525289</td>\n",
              "      <td>-0.176915</td>\n",
              "      <td>-0.379766</td>\n",
              "      <td>-0.166227</td>\n",
              "      <td>-0.313631</td>\n",
              "      <td>-0.047868</td>\n",
              "      <td>-0.033083</td>\n",
              "      <td>5.987500</td>\n",
              "      <td>0.000000</td>\n",
              "    </tr>\n",
              "    <tr>\n",
              "      <th>50%</th>\n",
              "      <td>282.000000</td>\n",
              "      <td>-0.382618</td>\n",
              "      <td>0.285843</td>\n",
              "      <td>0.905435</td>\n",
              "      <td>0.395919</td>\n",
              "      <td>-0.116612</td>\n",
              "      <td>-0.109581</td>\n",
              "      <td>0.116329</td>\n",
              "      <td>0.034755</td>\n",
              "      <td>-0.082270</td>\n",
              "      <td>...</td>\n",
              "      <td>-0.075802</td>\n",
              "      <td>-0.076551</td>\n",
              "      <td>-0.048353</td>\n",
              "      <td>0.091886</td>\n",
              "      <td>0.143723</td>\n",
              "      <td>-0.026414</td>\n",
              "      <td>0.023199</td>\n",
              "      <td>0.021034</td>\n",
              "      <td>16.665000</td>\n",
              "      <td>0.000000</td>\n",
              "    </tr>\n",
              "    <tr>\n",
              "      <th>75%</th>\n",
              "      <td>432.000000</td>\n",
              "      <td>1.110739</td>\n",
              "      <td>0.885745</td>\n",
              "      <td>1.532969</td>\n",
              "      <td>1.117559</td>\n",
              "      <td>0.452818</td>\n",
              "      <td>0.482972</td>\n",
              "      <td>0.575390</td>\n",
              "      <td>0.252395</td>\n",
              "      <td>0.412261</td>\n",
              "      <td>...</td>\n",
              "      <td>0.095149</td>\n",
              "      <td>0.307438</td>\n",
              "      <td>0.070085</td>\n",
              "      <td>0.426339</td>\n",
              "      <td>0.425798</td>\n",
              "      <td>0.260408</td>\n",
              "      <td>0.112199</td>\n",
              "      <td>0.087023</td>\n",
              "      <td>55.527500</td>\n",
              "      <td>0.000000</td>\n",
              "    </tr>\n",
              "    <tr>\n",
              "      <th>max</th>\n",
              "      <td>581.000000</td>\n",
              "      <td>1.586093</td>\n",
              "      <td>5.267376</td>\n",
              "      <td>3.772857</td>\n",
              "      <td>4.075817</td>\n",
              "      <td>7.672544</td>\n",
              "      <td>5.122103</td>\n",
              "      <td>4.808426</td>\n",
              "      <td>2.134599</td>\n",
              "      <td>5.459274</td>\n",
              "      <td>...</td>\n",
              "      <td>5.273420</td>\n",
              "      <td>1.574750</td>\n",
              "      <td>3.150413</td>\n",
              "      <td>1.215279</td>\n",
              "      <td>1.136720</td>\n",
              "      <td>3.087444</td>\n",
              "      <td>2.490503</td>\n",
              "      <td>1.575380</td>\n",
              "      <td>3828.040000</td>\n",
              "      <td>1.000000</td>\n",
              "    </tr>\n",
              "  </tbody>\n",
              "</table>\n",
              "<p>8 rows × 31 columns</p>\n",
              "</div>"
            ],
            "text/plain": [
              "             Time          V1          V2          V3          V4          V5  \\\n",
              "count  772.000000  772.000000  772.000000  772.000000  772.000000  772.000000   \n",
              "mean   283.005181   -0.176963    0.217169    0.875172    0.285628   -0.005029   \n",
              "std    171.834196    1.294724    1.173401    1.031878    1.258758    1.098143   \n",
              "min      0.000000   -6.093248  -12.114213   -5.694973   -4.657545   -6.631951   \n",
              "25%    126.500000   -0.896416   -0.174684    0.308677   -0.460058   -0.534567   \n",
              "50%    282.000000   -0.382618    0.285843    0.905435    0.395919   -0.116612   \n",
              "75%    432.000000    1.110739    0.885745    1.532969    1.117559    0.452818   \n",
              "max    581.000000    1.586093    5.267376    3.772857    4.075817    7.672544   \n",
              "\n",
              "               V6          V7          V8          V9  ...         V21  \\\n",
              "count  772.000000  772.000000  772.000000  772.000000  ...  772.000000   \n",
              "mean     0.159081    0.123329   -0.057547   -0.030384  ...    0.004888   \n",
              "std      1.225682    0.852075    0.830144    0.878183  ...    0.609335   \n",
              "min     -3.498447   -4.925568   -7.494658   -2.770089  ...   -4.134608   \n",
              "25%     -0.630717   -0.296289   -0.167880   -0.517068  ...   -0.213746   \n",
              "50%     -0.109581    0.116329    0.034755   -0.082270  ...   -0.075802   \n",
              "75%      0.482972    0.575390    0.252395    0.412261  ...    0.095149   \n",
              "max      5.122103    4.808426    2.134599    5.459274  ...    5.273420   \n",
              "\n",
              "              V22         V23         V24         V25         V26         V27  \\\n",
              "count  772.000000  772.000000  772.000000  772.000000  772.000000  772.000000   \n",
              "mean    -0.096995   -0.040344   -0.002501    0.114337    0.022782    0.023353   \n",
              "std      0.607228    0.358724    0.621507    0.429667    0.484227    0.300934   \n",
              "min     -2.776923   -3.553381   -1.867208   -1.389079   -1.243924   -2.377933   \n",
              "25%     -0.525289   -0.176915   -0.379766   -0.166227   -0.313631   -0.047868   \n",
              "50%     -0.076551   -0.048353    0.091886    0.143723   -0.026414    0.023199   \n",
              "75%      0.307438    0.070085    0.426339    0.425798    0.260408    0.112199   \n",
              "max      1.574750    3.150413    1.215279    1.136720    3.087444    2.490503   \n",
              "\n",
              "              V28       Amount       Class  \n",
              "count  772.000000   772.000000  772.000000  \n",
              "mean    -0.017045    68.668290    0.011658  \n",
              "std      0.278332   197.838269    0.107411  \n",
              "min     -2.735623     0.000000    0.000000  \n",
              "25%     -0.033083     5.987500    0.000000  \n",
              "50%      0.021034    16.665000    0.000000  \n",
              "75%      0.087023    55.527500    0.000000  \n",
              "max      1.575380  3828.040000    1.000000  \n",
              "\n",
              "[8 rows x 31 columns]"
            ]
          },
          "execution_count": 90,
          "metadata": {},
          "output_type": "execute_result"
        }
      ],
      "source": [
        "dataset.describe()"
      ]
    },
    {
      "cell_type": "code",
      "execution_count": 91,
      "metadata": {
        "colab": {
          "base_uri": "https://localhost:8080/",
          "height": 299
        },
        "id": "LAAFIxlazpie",
        "outputId": "858c4e2e-7f12-41da-e3a1-912aa01d4c76"
      },
      "outputs": [
        {
          "data": {
            "text/html": [
              "<div>\n",
              "<style scoped>\n",
              "    .dataframe tbody tr th:only-of-type {\n",
              "        vertical-align: middle;\n",
              "    }\n",
              "\n",
              "    .dataframe tbody tr th {\n",
              "        vertical-align: top;\n",
              "    }\n",
              "\n",
              "    .dataframe thead th {\n",
              "        text-align: right;\n",
              "    }\n",
              "</style>\n",
              "<table border=\"1\" class=\"dataframe\">\n",
              "  <thead>\n",
              "    <tr style=\"text-align: right;\">\n",
              "      <th></th>\n",
              "      <th>Time</th>\n",
              "      <th>V1</th>\n",
              "      <th>V2</th>\n",
              "      <th>V3</th>\n",
              "      <th>V4</th>\n",
              "      <th>V5</th>\n",
              "      <th>V6</th>\n",
              "      <th>V7</th>\n",
              "      <th>V8</th>\n",
              "      <th>V9</th>\n",
              "      <th>...</th>\n",
              "      <th>V21</th>\n",
              "      <th>V22</th>\n",
              "      <th>V23</th>\n",
              "      <th>V24</th>\n",
              "      <th>V25</th>\n",
              "      <th>V26</th>\n",
              "      <th>V27</th>\n",
              "      <th>V28</th>\n",
              "      <th>Amount</th>\n",
              "      <th>Class</th>\n",
              "    </tr>\n",
              "  </thead>\n",
              "  <tbody>\n",
              "    <tr>\n",
              "      <th>0</th>\n",
              "      <td>0</td>\n",
              "      <td>-1.359807</td>\n",
              "      <td>-0.072781</td>\n",
              "      <td>2.536347</td>\n",
              "      <td>1.378155</td>\n",
              "      <td>-0.338321</td>\n",
              "      <td>0.462388</td>\n",
              "      <td>0.239599</td>\n",
              "      <td>0.098698</td>\n",
              "      <td>0.363787</td>\n",
              "      <td>...</td>\n",
              "      <td>-0.018307</td>\n",
              "      <td>0.277838</td>\n",
              "      <td>-0.110474</td>\n",
              "      <td>0.066928</td>\n",
              "      <td>0.128539</td>\n",
              "      <td>-0.189115</td>\n",
              "      <td>0.133558</td>\n",
              "      <td>-0.021053</td>\n",
              "      <td>149.62</td>\n",
              "      <td>0</td>\n",
              "    </tr>\n",
              "    <tr>\n",
              "      <th>1</th>\n",
              "      <td>0</td>\n",
              "      <td>1.191857</td>\n",
              "      <td>0.266151</td>\n",
              "      <td>0.166480</td>\n",
              "      <td>0.448154</td>\n",
              "      <td>0.060018</td>\n",
              "      <td>-0.082361</td>\n",
              "      <td>-0.078803</td>\n",
              "      <td>0.085102</td>\n",
              "      <td>-0.255425</td>\n",
              "      <td>...</td>\n",
              "      <td>-0.225775</td>\n",
              "      <td>-0.638672</td>\n",
              "      <td>0.101288</td>\n",
              "      <td>-0.339846</td>\n",
              "      <td>0.167170</td>\n",
              "      <td>0.125895</td>\n",
              "      <td>-0.008983</td>\n",
              "      <td>0.014724</td>\n",
              "      <td>2.69</td>\n",
              "      <td>1</td>\n",
              "    </tr>\n",
              "    <tr>\n",
              "      <th>2</th>\n",
              "      <td>1</td>\n",
              "      <td>-1.358354</td>\n",
              "      <td>-1.340163</td>\n",
              "      <td>1.773209</td>\n",
              "      <td>0.379780</td>\n",
              "      <td>-0.503198</td>\n",
              "      <td>1.800499</td>\n",
              "      <td>0.791461</td>\n",
              "      <td>0.247676</td>\n",
              "      <td>-1.514654</td>\n",
              "      <td>...</td>\n",
              "      <td>0.247998</td>\n",
              "      <td>0.771679</td>\n",
              "      <td>0.909412</td>\n",
              "      <td>-0.689281</td>\n",
              "      <td>-0.327642</td>\n",
              "      <td>-0.139097</td>\n",
              "      <td>-0.055353</td>\n",
              "      <td>-0.059752</td>\n",
              "      <td>378.66</td>\n",
              "      <td>0</td>\n",
              "    </tr>\n",
              "    <tr>\n",
              "      <th>3</th>\n",
              "      <td>1</td>\n",
              "      <td>-0.966272</td>\n",
              "      <td>-0.185226</td>\n",
              "      <td>1.792993</td>\n",
              "      <td>-0.863291</td>\n",
              "      <td>-0.010309</td>\n",
              "      <td>1.247203</td>\n",
              "      <td>0.237609</td>\n",
              "      <td>0.377436</td>\n",
              "      <td>-1.387024</td>\n",
              "      <td>...</td>\n",
              "      <td>-0.108300</td>\n",
              "      <td>0.005274</td>\n",
              "      <td>-0.190321</td>\n",
              "      <td>-1.175575</td>\n",
              "      <td>0.647376</td>\n",
              "      <td>-0.221929</td>\n",
              "      <td>0.062723</td>\n",
              "      <td>0.061458</td>\n",
              "      <td>123.50</td>\n",
              "      <td>0</td>\n",
              "    </tr>\n",
              "    <tr>\n",
              "      <th>4</th>\n",
              "      <td>2</td>\n",
              "      <td>-1.158233</td>\n",
              "      <td>0.877737</td>\n",
              "      <td>1.548718</td>\n",
              "      <td>0.403034</td>\n",
              "      <td>-0.407193</td>\n",
              "      <td>0.095921</td>\n",
              "      <td>0.592941</td>\n",
              "      <td>-0.270533</td>\n",
              "      <td>0.817739</td>\n",
              "      <td>...</td>\n",
              "      <td>-0.009431</td>\n",
              "      <td>0.798278</td>\n",
              "      <td>-0.137458</td>\n",
              "      <td>0.141267</td>\n",
              "      <td>-0.206010</td>\n",
              "      <td>0.502292</td>\n",
              "      <td>0.219422</td>\n",
              "      <td>0.215153</td>\n",
              "      <td>69.99</td>\n",
              "      <td>0</td>\n",
              "    </tr>\n",
              "  </tbody>\n",
              "</table>\n",
              "<p>5 rows × 31 columns</p>\n",
              "</div>"
            ],
            "text/plain": [
              "   Time        V1        V2        V3        V4        V5        V6        V7  \\\n",
              "0     0 -1.359807 -0.072781  2.536347  1.378155 -0.338321  0.462388  0.239599   \n",
              "1     0  1.191857  0.266151  0.166480  0.448154  0.060018 -0.082361 -0.078803   \n",
              "2     1 -1.358354 -1.340163  1.773209  0.379780 -0.503198  1.800499  0.791461   \n",
              "3     1 -0.966272 -0.185226  1.792993 -0.863291 -0.010309  1.247203  0.237609   \n",
              "4     2 -1.158233  0.877737  1.548718  0.403034 -0.407193  0.095921  0.592941   \n",
              "\n",
              "         V8        V9  ...       V21       V22       V23       V24       V25  \\\n",
              "0  0.098698  0.363787  ... -0.018307  0.277838 -0.110474  0.066928  0.128539   \n",
              "1  0.085102 -0.255425  ... -0.225775 -0.638672  0.101288 -0.339846  0.167170   \n",
              "2  0.247676 -1.514654  ...  0.247998  0.771679  0.909412 -0.689281 -0.327642   \n",
              "3  0.377436 -1.387024  ... -0.108300  0.005274 -0.190321 -1.175575  0.647376   \n",
              "4 -0.270533  0.817739  ... -0.009431  0.798278 -0.137458  0.141267 -0.206010   \n",
              "\n",
              "        V26       V27       V28  Amount  Class  \n",
              "0 -0.189115  0.133558 -0.021053  149.62      0  \n",
              "1  0.125895 -0.008983  0.014724    2.69      1  \n",
              "2 -0.139097 -0.055353 -0.059752  378.66      0  \n",
              "3 -0.221929  0.062723  0.061458  123.50      0  \n",
              "4  0.502292  0.219422  0.215153   69.99      0  \n",
              "\n",
              "[5 rows x 31 columns]"
            ]
          },
          "execution_count": 91,
          "metadata": {},
          "output_type": "execute_result"
        }
      ],
      "source": [
        "dataset.head()"
      ]
    },
    {
      "cell_type": "code",
      "execution_count": 92,
      "metadata": {
        "colab": {
          "base_uri": "https://localhost:8080/"
        },
        "id": "gLOXLTfL0nRg",
        "outputId": "f9d0508f-fde7-44f1-d223-628a96cfcb46"
      },
      "outputs": [
        {
          "data": {
            "text/plain": [
              "0    763\n",
              "1      9\n",
              "Name: Class, dtype: int64"
            ]
          },
          "execution_count": 92,
          "metadata": {},
          "output_type": "execute_result"
        }
      ],
      "source": [
        "dataset['Class'].value_counts()"
      ]
    },
    {
      "cell_type": "code",
      "execution_count": 93,
      "metadata": {
        "id": "OBXMLM-30n0D"
      },
      "outputs": [],
      "source": [
        "x = dataset.loc[:,dataset.columns!='Class']\n",
        "y = dataset.loc[:,dataset.columns=='Class']"
      ]
    },
    {
      "cell_type": "markdown",
      "metadata": {
        "id": "PPs6X1PG0twX"
      },
      "source": [
        "# Oversampling (Because dataset is imbalanced)"
      ]
    },
    {
      "cell_type": "code",
      "execution_count": 94,
      "metadata": {
        "id": "pSAnsfXB0psn"
      },
      "outputs": [],
      "source": [
        "from imblearn.over_sampling import RandomOverSampler\n",
        "rs = RandomOverSampler(random_state=50)\n",
        "x_rs, y_rs = rs.fit_resample(x, y)"
      ]
    },
    {
      "cell_type": "code",
      "execution_count": 95,
      "metadata": {
        "colab": {
          "base_uri": "https://localhost:8080/"
        },
        "id": "4CsMuLOy1DxX",
        "outputId": "d646fbe9-ac46-45df-bb8c-cd58c641dc5a"
      },
      "outputs": [
        {
          "data": {
            "text/plain": [
              "Class\n",
              "0        763\n",
              "1        763\n",
              "dtype: int64"
            ]
          },
          "execution_count": 95,
          "metadata": {},
          "output_type": "execute_result"
        }
      ],
      "source": [
        "y_rs.value_counts()"
      ]
    },
    {
      "cell_type": "code",
      "execution_count": 96,
      "metadata": {
        "id": "vOiV-V1M1Fac"
      },
      "outputs": [],
      "source": [
        "x_rs['Class'] = y_rs"
      ]
    },
    {
      "cell_type": "code",
      "execution_count": 97,
      "metadata": {
        "colab": {
          "base_uri": "https://localhost:8080/",
          "height": 487
        },
        "id": "vwM4B7ja1J6k",
        "outputId": "73edae4f-2026-442e-95a9-365cb794128b"
      },
      "outputs": [
        {
          "data": {
            "text/html": [
              "<div>\n",
              "<style scoped>\n",
              "    .dataframe tbody tr th:only-of-type {\n",
              "        vertical-align: middle;\n",
              "    }\n",
              "\n",
              "    .dataframe tbody tr th {\n",
              "        vertical-align: top;\n",
              "    }\n",
              "\n",
              "    .dataframe thead th {\n",
              "        text-align: right;\n",
              "    }\n",
              "</style>\n",
              "<table border=\"1\" class=\"dataframe\">\n",
              "  <thead>\n",
              "    <tr style=\"text-align: right;\">\n",
              "      <th></th>\n",
              "      <th>Time</th>\n",
              "      <th>V1</th>\n",
              "      <th>V2</th>\n",
              "      <th>V3</th>\n",
              "      <th>V4</th>\n",
              "      <th>V5</th>\n",
              "      <th>V6</th>\n",
              "      <th>V7</th>\n",
              "      <th>V8</th>\n",
              "      <th>V9</th>\n",
              "      <th>...</th>\n",
              "      <th>V21</th>\n",
              "      <th>V22</th>\n",
              "      <th>V23</th>\n",
              "      <th>V24</th>\n",
              "      <th>V25</th>\n",
              "      <th>V26</th>\n",
              "      <th>V27</th>\n",
              "      <th>V28</th>\n",
              "      <th>Amount</th>\n",
              "      <th>Class</th>\n",
              "    </tr>\n",
              "  </thead>\n",
              "  <tbody>\n",
              "    <tr>\n",
              "      <th>0</th>\n",
              "      <td>0</td>\n",
              "      <td>-1.359807</td>\n",
              "      <td>-0.072781</td>\n",
              "      <td>2.536347</td>\n",
              "      <td>1.378155</td>\n",
              "      <td>-0.338321</td>\n",
              "      <td>0.462388</td>\n",
              "      <td>0.239599</td>\n",
              "      <td>0.098698</td>\n",
              "      <td>0.363787</td>\n",
              "      <td>...</td>\n",
              "      <td>-0.018307</td>\n",
              "      <td>0.277838</td>\n",
              "      <td>-0.110474</td>\n",
              "      <td>0.066928</td>\n",
              "      <td>0.128539</td>\n",
              "      <td>-0.189115</td>\n",
              "      <td>0.133558</td>\n",
              "      <td>-0.021053</td>\n",
              "      <td>149.62</td>\n",
              "      <td>0</td>\n",
              "    </tr>\n",
              "    <tr>\n",
              "      <th>1</th>\n",
              "      <td>0</td>\n",
              "      <td>1.191857</td>\n",
              "      <td>0.266151</td>\n",
              "      <td>0.166480</td>\n",
              "      <td>0.448154</td>\n",
              "      <td>0.060018</td>\n",
              "      <td>-0.082361</td>\n",
              "      <td>-0.078803</td>\n",
              "      <td>0.085102</td>\n",
              "      <td>-0.255425</td>\n",
              "      <td>...</td>\n",
              "      <td>-0.225775</td>\n",
              "      <td>-0.638672</td>\n",
              "      <td>0.101288</td>\n",
              "      <td>-0.339846</td>\n",
              "      <td>0.167170</td>\n",
              "      <td>0.125895</td>\n",
              "      <td>-0.008983</td>\n",
              "      <td>0.014724</td>\n",
              "      <td>2.69</td>\n",
              "      <td>1</td>\n",
              "    </tr>\n",
              "    <tr>\n",
              "      <th>2</th>\n",
              "      <td>1</td>\n",
              "      <td>-1.358354</td>\n",
              "      <td>-1.340163</td>\n",
              "      <td>1.773209</td>\n",
              "      <td>0.379780</td>\n",
              "      <td>-0.503198</td>\n",
              "      <td>1.800499</td>\n",
              "      <td>0.791461</td>\n",
              "      <td>0.247676</td>\n",
              "      <td>-1.514654</td>\n",
              "      <td>...</td>\n",
              "      <td>0.247998</td>\n",
              "      <td>0.771679</td>\n",
              "      <td>0.909412</td>\n",
              "      <td>-0.689281</td>\n",
              "      <td>-0.327642</td>\n",
              "      <td>-0.139097</td>\n",
              "      <td>-0.055353</td>\n",
              "      <td>-0.059752</td>\n",
              "      <td>378.66</td>\n",
              "      <td>0</td>\n",
              "    </tr>\n",
              "    <tr>\n",
              "      <th>3</th>\n",
              "      <td>1</td>\n",
              "      <td>-0.966272</td>\n",
              "      <td>-0.185226</td>\n",
              "      <td>1.792993</td>\n",
              "      <td>-0.863291</td>\n",
              "      <td>-0.010309</td>\n",
              "      <td>1.247203</td>\n",
              "      <td>0.237609</td>\n",
              "      <td>0.377436</td>\n",
              "      <td>-1.387024</td>\n",
              "      <td>...</td>\n",
              "      <td>-0.108300</td>\n",
              "      <td>0.005274</td>\n",
              "      <td>-0.190321</td>\n",
              "      <td>-1.175575</td>\n",
              "      <td>0.647376</td>\n",
              "      <td>-0.221929</td>\n",
              "      <td>0.062723</td>\n",
              "      <td>0.061458</td>\n",
              "      <td>123.50</td>\n",
              "      <td>0</td>\n",
              "    </tr>\n",
              "    <tr>\n",
              "      <th>4</th>\n",
              "      <td>2</td>\n",
              "      <td>-1.158233</td>\n",
              "      <td>0.877737</td>\n",
              "      <td>1.548718</td>\n",
              "      <td>0.403034</td>\n",
              "      <td>-0.407193</td>\n",
              "      <td>0.095921</td>\n",
              "      <td>0.592941</td>\n",
              "      <td>-0.270533</td>\n",
              "      <td>0.817739</td>\n",
              "      <td>...</td>\n",
              "      <td>-0.009431</td>\n",
              "      <td>0.798278</td>\n",
              "      <td>-0.137458</td>\n",
              "      <td>0.141267</td>\n",
              "      <td>-0.206010</td>\n",
              "      <td>0.502292</td>\n",
              "      <td>0.219422</td>\n",
              "      <td>0.215153</td>\n",
              "      <td>69.99</td>\n",
              "      <td>0</td>\n",
              "    </tr>\n",
              "    <tr>\n",
              "      <th>...</th>\n",
              "      <td>...</td>\n",
              "      <td>...</td>\n",
              "      <td>...</td>\n",
              "      <td>...</td>\n",
              "      <td>...</td>\n",
              "      <td>...</td>\n",
              "      <td>...</td>\n",
              "      <td>...</td>\n",
              "      <td>...</td>\n",
              "      <td>...</td>\n",
              "      <td>...</td>\n",
              "      <td>...</td>\n",
              "      <td>...</td>\n",
              "      <td>...</td>\n",
              "      <td>...</td>\n",
              "      <td>...</td>\n",
              "      <td>...</td>\n",
              "      <td>...</td>\n",
              "      <td>...</td>\n",
              "      <td>...</td>\n",
              "      <td>...</td>\n",
              "    </tr>\n",
              "    <tr>\n",
              "      <th>1521</th>\n",
              "      <td>118</td>\n",
              "      <td>1.254914</td>\n",
              "      <td>0.350287</td>\n",
              "      <td>0.302488</td>\n",
              "      <td>0.693114</td>\n",
              "      <td>-0.371470</td>\n",
              "      <td>-1.070256</td>\n",
              "      <td>0.086781</td>\n",
              "      <td>-0.202836</td>\n",
              "      <td>0.035154</td>\n",
              "      <td>...</td>\n",
              "      <td>-0.287592</td>\n",
              "      <td>-0.832682</td>\n",
              "      <td>0.128083</td>\n",
              "      <td>0.339427</td>\n",
              "      <td>0.215944</td>\n",
              "      <td>0.094704</td>\n",
              "      <td>-0.023354</td>\n",
              "      <td>0.030892</td>\n",
              "      <td>2.69</td>\n",
              "      <td>1</td>\n",
              "    </tr>\n",
              "    <tr>\n",
              "      <th>1522</th>\n",
              "      <td>484</td>\n",
              "      <td>-0.928088</td>\n",
              "      <td>0.398194</td>\n",
              "      <td>1.741131</td>\n",
              "      <td>0.182673</td>\n",
              "      <td>0.966387</td>\n",
              "      <td>-0.901004</td>\n",
              "      <td>0.879016</td>\n",
              "      <td>-0.156590</td>\n",
              "      <td>-0.142117</td>\n",
              "      <td>...</td>\n",
              "      <td>0.066353</td>\n",
              "      <td>0.281378</td>\n",
              "      <td>-0.257966</td>\n",
              "      <td>0.385384</td>\n",
              "      <td>0.391117</td>\n",
              "      <td>-0.453853</td>\n",
              "      <td>-0.104448</td>\n",
              "      <td>-0.125765</td>\n",
              "      <td>1.00</td>\n",
              "      <td>1</td>\n",
              "    </tr>\n",
              "    <tr>\n",
              "      <th>1523</th>\n",
              "      <td>164</td>\n",
              "      <td>0.073497</td>\n",
              "      <td>0.551033</td>\n",
              "      <td>0.451890</td>\n",
              "      <td>0.114964</td>\n",
              "      <td>0.822947</td>\n",
              "      <td>0.251480</td>\n",
              "      <td>0.296319</td>\n",
              "      <td>0.139497</td>\n",
              "      <td>-0.123050</td>\n",
              "      <td>...</td>\n",
              "      <td>-0.128758</td>\n",
              "      <td>-0.381932</td>\n",
              "      <td>0.151012</td>\n",
              "      <td>-1.363967</td>\n",
              "      <td>-1.389079</td>\n",
              "      <td>0.075412</td>\n",
              "      <td>0.231750</td>\n",
              "      <td>0.230171</td>\n",
              "      <td>0.99</td>\n",
              "      <td>1</td>\n",
              "    </tr>\n",
              "    <tr>\n",
              "      <th>1524</th>\n",
              "      <td>0</td>\n",
              "      <td>1.191857</td>\n",
              "      <td>0.266151</td>\n",
              "      <td>0.166480</td>\n",
              "      <td>0.448154</td>\n",
              "      <td>0.060018</td>\n",
              "      <td>-0.082361</td>\n",
              "      <td>-0.078803</td>\n",
              "      <td>0.085102</td>\n",
              "      <td>-0.255425</td>\n",
              "      <td>...</td>\n",
              "      <td>-0.225775</td>\n",
              "      <td>-0.638672</td>\n",
              "      <td>0.101288</td>\n",
              "      <td>-0.339846</td>\n",
              "      <td>0.167170</td>\n",
              "      <td>0.125895</td>\n",
              "      <td>-0.008983</td>\n",
              "      <td>0.014724</td>\n",
              "      <td>2.69</td>\n",
              "      <td>1</td>\n",
              "    </tr>\n",
              "    <tr>\n",
              "      <th>1525</th>\n",
              "      <td>0</td>\n",
              "      <td>1.191857</td>\n",
              "      <td>0.266151</td>\n",
              "      <td>0.166480</td>\n",
              "      <td>0.448154</td>\n",
              "      <td>0.060018</td>\n",
              "      <td>-0.082361</td>\n",
              "      <td>-0.078803</td>\n",
              "      <td>0.085102</td>\n",
              "      <td>-0.255425</td>\n",
              "      <td>...</td>\n",
              "      <td>-0.225775</td>\n",
              "      <td>-0.638672</td>\n",
              "      <td>0.101288</td>\n",
              "      <td>-0.339846</td>\n",
              "      <td>0.167170</td>\n",
              "      <td>0.125895</td>\n",
              "      <td>-0.008983</td>\n",
              "      <td>0.014724</td>\n",
              "      <td>2.69</td>\n",
              "      <td>1</td>\n",
              "    </tr>\n",
              "  </tbody>\n",
              "</table>\n",
              "<p>1526 rows × 31 columns</p>\n",
              "</div>"
            ],
            "text/plain": [
              "      Time        V1        V2        V3        V4        V5        V6  \\\n",
              "0        0 -1.359807 -0.072781  2.536347  1.378155 -0.338321  0.462388   \n",
              "1        0  1.191857  0.266151  0.166480  0.448154  0.060018 -0.082361   \n",
              "2        1 -1.358354 -1.340163  1.773209  0.379780 -0.503198  1.800499   \n",
              "3        1 -0.966272 -0.185226  1.792993 -0.863291 -0.010309  1.247203   \n",
              "4        2 -1.158233  0.877737  1.548718  0.403034 -0.407193  0.095921   \n",
              "...    ...       ...       ...       ...       ...       ...       ...   \n",
              "1521   118  1.254914  0.350287  0.302488  0.693114 -0.371470 -1.070256   \n",
              "1522   484 -0.928088  0.398194  1.741131  0.182673  0.966387 -0.901004   \n",
              "1523   164  0.073497  0.551033  0.451890  0.114964  0.822947  0.251480   \n",
              "1524     0  1.191857  0.266151  0.166480  0.448154  0.060018 -0.082361   \n",
              "1525     0  1.191857  0.266151  0.166480  0.448154  0.060018 -0.082361   \n",
              "\n",
              "            V7        V8        V9  ...       V21       V22       V23  \\\n",
              "0     0.239599  0.098698  0.363787  ... -0.018307  0.277838 -0.110474   \n",
              "1    -0.078803  0.085102 -0.255425  ... -0.225775 -0.638672  0.101288   \n",
              "2     0.791461  0.247676 -1.514654  ...  0.247998  0.771679  0.909412   \n",
              "3     0.237609  0.377436 -1.387024  ... -0.108300  0.005274 -0.190321   \n",
              "4     0.592941 -0.270533  0.817739  ... -0.009431  0.798278 -0.137458   \n",
              "...        ...       ...       ...  ...       ...       ...       ...   \n",
              "1521  0.086781 -0.202836  0.035154  ... -0.287592 -0.832682  0.128083   \n",
              "1522  0.879016 -0.156590 -0.142117  ...  0.066353  0.281378 -0.257966   \n",
              "1523  0.296319  0.139497 -0.123050  ... -0.128758 -0.381932  0.151012   \n",
              "1524 -0.078803  0.085102 -0.255425  ... -0.225775 -0.638672  0.101288   \n",
              "1525 -0.078803  0.085102 -0.255425  ... -0.225775 -0.638672  0.101288   \n",
              "\n",
              "           V24       V25       V26       V27       V28  Amount  Class  \n",
              "0     0.066928  0.128539 -0.189115  0.133558 -0.021053  149.62      0  \n",
              "1    -0.339846  0.167170  0.125895 -0.008983  0.014724    2.69      1  \n",
              "2    -0.689281 -0.327642 -0.139097 -0.055353 -0.059752  378.66      0  \n",
              "3    -1.175575  0.647376 -0.221929  0.062723  0.061458  123.50      0  \n",
              "4     0.141267 -0.206010  0.502292  0.219422  0.215153   69.99      0  \n",
              "...        ...       ...       ...       ...       ...     ...    ...  \n",
              "1521  0.339427  0.215944  0.094704 -0.023354  0.030892    2.69      1  \n",
              "1522  0.385384  0.391117 -0.453853 -0.104448 -0.125765    1.00      1  \n",
              "1523 -1.363967 -1.389079  0.075412  0.231750  0.230171    0.99      1  \n",
              "1524 -0.339846  0.167170  0.125895 -0.008983  0.014724    2.69      1  \n",
              "1525 -0.339846  0.167170  0.125895 -0.008983  0.014724    2.69      1  \n",
              "\n",
              "[1526 rows x 31 columns]"
            ]
          },
          "execution_count": 97,
          "metadata": {},
          "output_type": "execute_result"
        }
      ],
      "source": [
        "x_rs"
      ]
    },
    {
      "attachments": {},
      "cell_type": "markdown",
      "metadata": {},
      "source": [
        "ML MODELS ARE LOGISTIC REGRESSION ,DECISION TREE,NAIVE BYES,SUPPORT VECTOR MACHINE,KNN"
      ]
    },
    {
      "cell_type": "code",
      "execution_count": 98,
      "metadata": {},
      "outputs": [],
      "source": [
        "#make a empty dataframe of columns having sampling method names and rows having model names and accuracy score\n",
        "#column names are Simple Random Sampling,Straified Random Sampling,Systematic Sampling ,Cluster Sampling,Multistage Sampling\n",
        "#row names are Logistic Regression,Decision Tree,Random Forest,Naive Bayes,Support Vector Machine\n",
        "df = pd.DataFrame(index=['Logistic Regression','Decision Tree','Naive Bayes','Support Vector Machine',\"KNN\"],columns=['Simple Random Sampling','Stratified Random Sampling','Systematic Sampling','Cluster Sampling','Multi-Stage Sampling'])"
      ]
    },
    {
      "cell_type": "markdown",
      "metadata": {
        "id": "VChRbZWI1Ocy"
      },
      "source": [
        "# Sampling methods"
      ]
    },
    {
      "cell_type": "markdown",
      "metadata": {
        "id": "xKrVw7Hm1qce"
      },
      "source": [
        "**Sampling Method - 1 (Simple Random Sampling)**"
      ]
    },
    {
      "cell_type": "code",
      "execution_count": 99,
      "metadata": {
        "id": "MaC1Yj861Kwk"
      },
      "outputs": [],
      "source": [
        "from sklearn.model_selection import train_test_split\n",
        "from sklearn.linear_model import LogisticRegression\n",
        "from sklearn.tree import DecisionTreeClassifier\n",
        "from sklearn.naive_bayes import GaussianNB\n",
        "from sklearn.svm import SVC\n",
        "from sklearn.neighbors import KNeighborsClassifier\n",
        "from sklearn.metrics import accuracy_score\n",
        "from sklearn.metrics import confusion_matrix\n",
        "from sklearn.metrics import classification_report\n",
        "\n",
        "# Simple Random Sampling\n",
        "srs_sample = x_rs.sample(n = 1067, random_state=42)\n",
        "\n",
        "# x, y division and train-test split\n",
        "x = srs_sample.loc[:,srs_sample.columns!='Class']\n",
        "y = srs_sample.loc[:,srs_sample.columns=='Class']\n",
        "x_train, x_test, y_train, y_test = train_test_split(x, y, test_size=0.25, random_state=42)\n"
      ]
    },
    {
      "cell_type": "code",
      "execution_count": 100,
      "metadata": {
        "colab": {
          "base_uri": "https://localhost:8080/"
        },
        "id": "Du4j5HOV2zdr",
        "outputId": "067a0d8b-1cf8-4e7f-88b9-dd2550240355"
      },
      "outputs": [
        {
          "name": "stdout",
          "output_type": "stream",
          "text": [
            "Accuracy Score:  0.8876404494382022\n"
          ]
        },
        {
          "name": "stderr",
          "output_type": "stream",
          "text": [
            "d:\\VS CODE\\Python\\lib\\site-packages\\sklearn\\utils\\validation.py:1143: DataConversionWarning: A column-vector y was passed when a 1d array was expected. Please change the shape of y to (n_samples, ), for example using ravel().\n",
            "  y = column_or_1d(y, warn=True)\n",
            "d:\\VS CODE\\Python\\lib\\site-packages\\sklearn\\linear_model\\_logistic.py:458: ConvergenceWarning: lbfgs failed to converge (status=1):\n",
            "STOP: TOTAL NO. of ITERATIONS REACHED LIMIT.\n",
            "\n",
            "Increase the number of iterations (max_iter) or scale the data as shown in:\n",
            "    https://scikit-learn.org/stable/modules/preprocessing.html\n",
            "Please also refer to the documentation for alternative solver options:\n",
            "    https://scikit-learn.org/stable/modules/linear_model.html#logistic-regression\n",
            "  n_iter_i = _check_optimize_result(\n"
          ]
        }
      ],
      "source": [
        "# Logistic Regression\n",
        "lr = LogisticRegression()\n",
        "lr.fit(x_train, y_train)\n",
        "y_pred = lr.predict(x_test)\n",
        "print('Accuracy Score: ', accuracy_score(y_test, y_pred))\n",
        "#add accuracy score to dataframe\n",
        "df['Simple Random Sampling']['Logistic Regression'] = accuracy_score(y_test, y_pred)"
      ]
    },
    {
      "cell_type": "code",
      "execution_count": 101,
      "metadata": {
        "colab": {
          "base_uri": "https://localhost:8080/"
        },
        "id": "37JDSuhj2y_p",
        "outputId": "3e5ffdac-6694-4869-de30-13d381b20090"
      },
      "outputs": [
        {
          "name": "stdout",
          "output_type": "stream",
          "text": [
            "Accuracy Score:  0.9850187265917603\n"
          ]
        }
      ],
      "source": [
        "# Decision Tree Classifier\n",
        "dt = DecisionTreeClassifier()\n",
        "dt.fit(x_train, y_train)\n",
        "y_pred = dt.predict(x_test)\n",
        "print('Accuracy Score: ', accuracy_score(y_test, y_pred))\n",
        "#add accuracy score to dataframe\n",
        "df['Simple Random Sampling']['Decision Tree'] = accuracy_score(y_test, y_pred)"
      ]
    },
    {
      "cell_type": "code",
      "execution_count": 102,
      "metadata": {
        "colab": {
          "base_uri": "https://localhost:8080/"
        },
        "id": "v4wP9yZ42ypX",
        "outputId": "094d3837-0160-4f98-dc69-87e182213875"
      },
      "outputs": [
        {
          "name": "stdout",
          "output_type": "stream",
          "text": [
            "Accuracy Score:  0.7490636704119851\n"
          ]
        },
        {
          "name": "stderr",
          "output_type": "stream",
          "text": [
            "d:\\VS CODE\\Python\\lib\\site-packages\\sklearn\\utils\\validation.py:1143: DataConversionWarning: A column-vector y was passed when a 1d array was expected. Please change the shape of y to (n_samples, ), for example using ravel().\n",
            "  y = column_or_1d(y, warn=True)\n"
          ]
        }
      ],
      "source": [
        "# Gaussian Naive Bayes\n",
        "gnb = GaussianNB()\n",
        "gnb.fit(x_train, y_train)\n",
        "y_pred = gnb.predict(x_test)\n",
        "print('Accuracy Score: ', accuracy_score(y_test, y_pred))\n",
        "#add accuracy score to dataframe\n",
        "df['Simple Random Sampling']['Naive Bayes'] = accuracy_score(y_test, y_pred)"
      ]
    },
    {
      "cell_type": "code",
      "execution_count": 103,
      "metadata": {
        "colab": {
          "base_uri": "https://localhost:8080/"
        },
        "id": "Y8d0pEX22yIv",
        "outputId": "01ecf5d3-4b37-4f16-b37b-3b6ec402d353"
      },
      "outputs": [
        {
          "name": "stdout",
          "output_type": "stream",
          "text": [
            "Accuracy Score:  0.6891385767790262\n"
          ]
        },
        {
          "name": "stderr",
          "output_type": "stream",
          "text": [
            "d:\\VS CODE\\Python\\lib\\site-packages\\sklearn\\utils\\validation.py:1143: DataConversionWarning: A column-vector y was passed when a 1d array was expected. Please change the shape of y to (n_samples, ), for example using ravel().\n",
            "  y = column_or_1d(y, warn=True)\n"
          ]
        }
      ],
      "source": [
        "# Support Vector Machine\n",
        "svm = SVC()\n",
        "svm.fit(x_train, y_train)\n",
        "y_pred = svm.predict(x_test)\n",
        "print('Accuracy Score: ', accuracy_score(y_test, y_pred))\n",
        "#add accuracy score to dataframe\n",
        "df['Simple Random Sampling']['Support Vector Machine'] = accuracy_score(y_test, y_pred)"
      ]
    },
    {
      "cell_type": "code",
      "execution_count": 104,
      "metadata": {
        "colab": {
          "base_uri": "https://localhost:8080/"
        },
        "id": "VV-VdMUX3CZl",
        "outputId": "a08cb59b-f49c-40f3-b096-9815652d45e1"
      },
      "outputs": [
        {
          "name": "stdout",
          "output_type": "stream",
          "text": [
            "Accuracy Score:  0.9812734082397003\n"
          ]
        },
        {
          "name": "stderr",
          "output_type": "stream",
          "text": [
            "d:\\VS CODE\\Python\\lib\\site-packages\\sklearn\\neighbors\\_classification.py:215: DataConversionWarning: A column-vector y was passed when a 1d array was expected. Please change the shape of y to (n_samples,), for example using ravel().\n",
            "  return self._fit(X, y)\n"
          ]
        }
      ],
      "source": [
        "# KNN\n",
        "knn = KNeighborsClassifier()\n",
        "knn.fit(x_train, y_train)\n",
        "y_pred = knn.predict(x_test)\n",
        "print('Accuracy Score: ', accuracy_score(y_test, y_pred))\n",
        "#add accuracy score to dataframe\n",
        "df['Simple Random Sampling']['KNN'] = accuracy_score(y_test, y_pred)"
      ]
    },
    {
      "cell_type": "code",
      "execution_count": 105,
      "metadata": {
        "colab": {
          "base_uri": "https://localhost:8080/",
          "height": 206
        },
        "id": "8wiQUTXS2QtD",
        "outputId": "66ea617a-78a6-4e98-bfaf-c37e8cd40d1c"
      },
      "outputs": [
        {
          "data": {
            "text/html": [
              "<div>\n",
              "<style scoped>\n",
              "    .dataframe tbody tr th:only-of-type {\n",
              "        vertical-align: middle;\n",
              "    }\n",
              "\n",
              "    .dataframe tbody tr th {\n",
              "        vertical-align: top;\n",
              "    }\n",
              "\n",
              "    .dataframe thead th {\n",
              "        text-align: right;\n",
              "    }\n",
              "</style>\n",
              "<table border=\"1\" class=\"dataframe\">\n",
              "  <thead>\n",
              "    <tr style=\"text-align: right;\">\n",
              "      <th></th>\n",
              "      <th>Simple Random Sampling</th>\n",
              "      <th>Stratified Random Sampling</th>\n",
              "      <th>Systematic Sampling</th>\n",
              "      <th>Cluster Sampling</th>\n",
              "      <th>Multi-Stage Sampling</th>\n",
              "    </tr>\n",
              "  </thead>\n",
              "  <tbody>\n",
              "    <tr>\n",
              "      <th>Logistic Regression</th>\n",
              "      <td>0.88764</td>\n",
              "      <td>NaN</td>\n",
              "      <td>NaN</td>\n",
              "      <td>NaN</td>\n",
              "      <td>NaN</td>\n",
              "    </tr>\n",
              "    <tr>\n",
              "      <th>Decision Tree</th>\n",
              "      <td>0.985019</td>\n",
              "      <td>NaN</td>\n",
              "      <td>NaN</td>\n",
              "      <td>NaN</td>\n",
              "      <td>NaN</td>\n",
              "    </tr>\n",
              "    <tr>\n",
              "      <th>Naive Bayes</th>\n",
              "      <td>0.749064</td>\n",
              "      <td>NaN</td>\n",
              "      <td>NaN</td>\n",
              "      <td>NaN</td>\n",
              "      <td>NaN</td>\n",
              "    </tr>\n",
              "    <tr>\n",
              "      <th>Support Vector Machine</th>\n",
              "      <td>0.689139</td>\n",
              "      <td>NaN</td>\n",
              "      <td>NaN</td>\n",
              "      <td>NaN</td>\n",
              "      <td>NaN</td>\n",
              "    </tr>\n",
              "    <tr>\n",
              "      <th>KNN</th>\n",
              "      <td>0.981273</td>\n",
              "      <td>NaN</td>\n",
              "      <td>NaN</td>\n",
              "      <td>NaN</td>\n",
              "      <td>NaN</td>\n",
              "    </tr>\n",
              "  </tbody>\n",
              "</table>\n",
              "</div>"
            ],
            "text/plain": [
              "                       Simple Random Sampling Stratified Random Sampling  \\\n",
              "Logistic Regression                   0.88764                        NaN   \n",
              "Decision Tree                        0.985019                        NaN   \n",
              "Naive Bayes                          0.749064                        NaN   \n",
              "Support Vector Machine               0.689139                        NaN   \n",
              "KNN                                  0.981273                        NaN   \n",
              "\n",
              "                       Systematic Sampling Cluster Sampling  \\\n",
              "Logistic Regression                    NaN              NaN   \n",
              "Decision Tree                          NaN              NaN   \n",
              "Naive Bayes                            NaN              NaN   \n",
              "Support Vector Machine                 NaN              NaN   \n",
              "KNN                                    NaN              NaN   \n",
              "\n",
              "                       Multi-Stage Sampling  \n",
              "Logistic Regression                     NaN  \n",
              "Decision Tree                           NaN  \n",
              "Naive Bayes                             NaN  \n",
              "Support Vector Machine                  NaN  \n",
              "KNN                                     NaN  "
            ]
          },
          "execution_count": 105,
          "metadata": {},
          "output_type": "execute_result"
        }
      ],
      "source": [
        "df"
      ]
    },
    {
      "cell_type": "markdown",
      "metadata": {
        "id": "lCBuyyej3IWF"
      },
      "source": [
        "**Sampling Method - 2 (Stratified Sampling)**"
      ]
    },
    {
      "cell_type": "code",
      "execution_count": 106,
      "metadata": {
        "id": "DrkuMEms3O1M"
      },
      "outputs": [],
      "source": [
        "from sklearn import tree\n",
        "from sklearn import linear_model\n",
        "from sklearn.tree import DecisionTreeClassifier\n",
        "from sklearn.model_selection import train_test_split\n",
        "\n",
        "# Stratified Sampling\n",
        "strat_sample = x_rs.groupby('Class', group_keys=False).apply(lambda x: x.sample(392,replace=True,random_state=42))\n",
        "\n",
        "# x, y division and train-test split\n",
        "x = strat_sample.loc[:,strat_sample.columns!='Class']\n",
        "y = strat_sample.loc[:,strat_sample.columns=='Class']\n",
        "x_train, x_test, y_train, y_test = train_test_split(x, y, test_size=0.25, random_state=42)\n"
      ]
    },
    {
      "cell_type": "code",
      "execution_count": 107,
      "metadata": {
        "colab": {
          "base_uri": "https://localhost:8080/"
        },
        "id": "K85gUtBF3u-t",
        "outputId": "05b612a3-2656-4843-bb26-02101bdb0bfe"
      },
      "outputs": [
        {
          "name": "stdout",
          "output_type": "stream",
          "text": [
            "Accuracy Score:  0.9132653061224489\n"
          ]
        },
        {
          "name": "stderr",
          "output_type": "stream",
          "text": [
            "d:\\VS CODE\\Python\\lib\\site-packages\\sklearn\\utils\\validation.py:1143: DataConversionWarning: A column-vector y was passed when a 1d array was expected. Please change the shape of y to (n_samples, ), for example using ravel().\n",
            "  y = column_or_1d(y, warn=True)\n",
            "d:\\VS CODE\\Python\\lib\\site-packages\\sklearn\\linear_model\\_logistic.py:458: ConvergenceWarning: lbfgs failed to converge (status=1):\n",
            "STOP: TOTAL NO. of ITERATIONS REACHED LIMIT.\n",
            "\n",
            "Increase the number of iterations (max_iter) or scale the data as shown in:\n",
            "    https://scikit-learn.org/stable/modules/preprocessing.html\n",
            "Please also refer to the documentation for alternative solver options:\n",
            "    https://scikit-learn.org/stable/modules/linear_model.html#logistic-regression\n",
            "  n_iter_i = _check_optimize_result(\n"
          ]
        }
      ],
      "source": [
        "# Logistic Regression\n",
        "lr = LogisticRegression()\n",
        "lr.fit(x_train, y_train)\n",
        "y_pred = lr.predict(x_test)\n",
        "print('Accuracy Score: ', accuracy_score(y_test, y_pred))\n",
        "#add accuracy score to dataframe\n",
        "df['Stratified Random Sampling']['Logistic Regression'] = accuracy_score(y_test, y_pred)"
      ]
    },
    {
      "cell_type": "code",
      "execution_count": 108,
      "metadata": {
        "colab": {
          "base_uri": "https://localhost:8080/"
        },
        "id": "Uzm4i9Ht3TnD",
        "outputId": "c0ed8d64-d365-42bb-81a3-b49a82b62ac7"
      },
      "outputs": [
        {
          "name": "stdout",
          "output_type": "stream",
          "text": [
            "Accuracy Score:  0.9693877551020408\n"
          ]
        }
      ],
      "source": [
        "# Decision Tree Classifier\n",
        "dt = DecisionTreeClassifier()\n",
        "dt.fit(x_train, y_train)\n",
        "y_pred = dt.predict(x_test)\n",
        "print('Accuracy Score: ', accuracy_score(y_test, y_pred))\n",
        "#add accuracy score to dataframe\n",
        "df['Stratified Random Sampling']['Decision Tree'] = accuracy_score(y_test, y_pred)"
      ]
    },
    {
      "cell_type": "code",
      "execution_count": 109,
      "metadata": {
        "colab": {
          "base_uri": "https://localhost:8080/"
        },
        "id": "Vc-2jaio3TcL",
        "outputId": "18c0046d-4a16-4b17-ff91-f51acdc06bcf"
      },
      "outputs": [
        {
          "name": "stdout",
          "output_type": "stream",
          "text": [
            "Accuracy Score:  0.7602040816326531\n"
          ]
        },
        {
          "name": "stderr",
          "output_type": "stream",
          "text": [
            "d:\\VS CODE\\Python\\lib\\site-packages\\sklearn\\utils\\validation.py:1143: DataConversionWarning: A column-vector y was passed when a 1d array was expected. Please change the shape of y to (n_samples, ), for example using ravel().\n",
            "  y = column_or_1d(y, warn=True)\n"
          ]
        }
      ],
      "source": [
        "#Gaussian Naive Bayes\n",
        "gnb = GaussianNB()\n",
        "gnb.fit(x_train, y_train)\n",
        "y_pred = gnb.predict(x_test)\n",
        "print('Accuracy Score: ', accuracy_score(y_test, y_pred))\n",
        "#add accuracy score to dataframe\n",
        "df['Stratified Random Sampling']['Naive Bayes'] = accuracy_score(y_test, y_pred)"
      ]
    },
    {
      "cell_type": "code",
      "execution_count": 110,
      "metadata": {
        "colab": {
          "base_uri": "https://localhost:8080/"
        },
        "id": "UFcEmHAb3TRM",
        "outputId": "97e31ae6-1e78-4bb1-d692-d7dfe25e41fe"
      },
      "outputs": [
        {
          "name": "stderr",
          "output_type": "stream",
          "text": [
            "d:\\VS CODE\\Python\\lib\\site-packages\\sklearn\\utils\\validation.py:1143: DataConversionWarning: A column-vector y was passed when a 1d array was expected. Please change the shape of y to (n_samples, ), for example using ravel().\n",
            "  y = column_or_1d(y, warn=True)\n"
          ]
        },
        {
          "name": "stdout",
          "output_type": "stream",
          "text": [
            "Accuracy Score:  0.6173469387755102\n"
          ]
        }
      ],
      "source": [
        "# Support Vector Machine\n",
        "svm = SVC()\n",
        "svm.fit(x_train, y_train)\n",
        "y_pred = svm.predict(x_test)\n",
        "print('Accuracy Score: ', accuracy_score(y_test, y_pred))\n",
        "#add accuracy score to dataframe\n",
        "df['Stratified Random Sampling']['Support Vector Machine'] = accuracy_score(y_test, y_pred)"
      ]
    },
    {
      "cell_type": "code",
      "execution_count": 111,
      "metadata": {
        "colab": {
          "base_uri": "https://localhost:8080/"
        },
        "id": "kOixRNGh3TEx",
        "outputId": "1a82294b-2d60-4324-ea56-4779a8c3f569"
      },
      "outputs": [
        {
          "name": "stdout",
          "output_type": "stream",
          "text": [
            "Accuracy Score:  0.9591836734693877\n"
          ]
        },
        {
          "name": "stderr",
          "output_type": "stream",
          "text": [
            "d:\\VS CODE\\Python\\lib\\site-packages\\sklearn\\neighbors\\_classification.py:215: DataConversionWarning: A column-vector y was passed when a 1d array was expected. Please change the shape of y to (n_samples,), for example using ravel().\n",
            "  return self._fit(X, y)\n"
          ]
        }
      ],
      "source": [
        "# KNN\n",
        "knn = KNeighborsClassifier()\n",
        "knn.fit(x_train, y_train)\n",
        "y_pred = knn.predict(x_test)\n",
        "print('Accuracy Score: ', accuracy_score(y_test, y_pred))\n",
        "#add accuracy score to dataframe\n",
        "df['Stratified Random Sampling']['KNN'] = accuracy_score(y_test, y_pred)"
      ]
    },
    {
      "cell_type": "code",
      "execution_count": 112,
      "metadata": {
        "colab": {
          "base_uri": "https://localhost:8080/",
          "height": 206
        },
        "id": "JVYXPPtZ3S4-",
        "outputId": "c18206ff-41fc-4fd9-8ba8-c7099b01581b"
      },
      "outputs": [
        {
          "data": {
            "text/html": [
              "<div>\n",
              "<style scoped>\n",
              "    .dataframe tbody tr th:only-of-type {\n",
              "        vertical-align: middle;\n",
              "    }\n",
              "\n",
              "    .dataframe tbody tr th {\n",
              "        vertical-align: top;\n",
              "    }\n",
              "\n",
              "    .dataframe thead th {\n",
              "        text-align: right;\n",
              "    }\n",
              "</style>\n",
              "<table border=\"1\" class=\"dataframe\">\n",
              "  <thead>\n",
              "    <tr style=\"text-align: right;\">\n",
              "      <th></th>\n",
              "      <th>Simple Random Sampling</th>\n",
              "      <th>Stratified Random Sampling</th>\n",
              "      <th>Systematic Sampling</th>\n",
              "      <th>Cluster Sampling</th>\n",
              "      <th>Multi-Stage Sampling</th>\n",
              "    </tr>\n",
              "  </thead>\n",
              "  <tbody>\n",
              "    <tr>\n",
              "      <th>Logistic Regression</th>\n",
              "      <td>0.88764</td>\n",
              "      <td>0.913265</td>\n",
              "      <td>NaN</td>\n",
              "      <td>NaN</td>\n",
              "      <td>NaN</td>\n",
              "    </tr>\n",
              "    <tr>\n",
              "      <th>Decision Tree</th>\n",
              "      <td>0.985019</td>\n",
              "      <td>0.969388</td>\n",
              "      <td>NaN</td>\n",
              "      <td>NaN</td>\n",
              "      <td>NaN</td>\n",
              "    </tr>\n",
              "    <tr>\n",
              "      <th>Naive Bayes</th>\n",
              "      <td>0.749064</td>\n",
              "      <td>0.760204</td>\n",
              "      <td>NaN</td>\n",
              "      <td>NaN</td>\n",
              "      <td>NaN</td>\n",
              "    </tr>\n",
              "    <tr>\n",
              "      <th>Support Vector Machine</th>\n",
              "      <td>0.689139</td>\n",
              "      <td>0.617347</td>\n",
              "      <td>NaN</td>\n",
              "      <td>NaN</td>\n",
              "      <td>NaN</td>\n",
              "    </tr>\n",
              "    <tr>\n",
              "      <th>KNN</th>\n",
              "      <td>0.981273</td>\n",
              "      <td>0.959184</td>\n",
              "      <td>NaN</td>\n",
              "      <td>NaN</td>\n",
              "      <td>NaN</td>\n",
              "    </tr>\n",
              "  </tbody>\n",
              "</table>\n",
              "</div>"
            ],
            "text/plain": [
              "                       Simple Random Sampling Stratified Random Sampling  \\\n",
              "Logistic Regression                   0.88764                   0.913265   \n",
              "Decision Tree                        0.985019                   0.969388   \n",
              "Naive Bayes                          0.749064                   0.760204   \n",
              "Support Vector Machine               0.689139                   0.617347   \n",
              "KNN                                  0.981273                   0.959184   \n",
              "\n",
              "                       Systematic Sampling Cluster Sampling  \\\n",
              "Logistic Regression                    NaN              NaN   \n",
              "Decision Tree                          NaN              NaN   \n",
              "Naive Bayes                            NaN              NaN   \n",
              "Support Vector Machine                 NaN              NaN   \n",
              "KNN                                    NaN              NaN   \n",
              "\n",
              "                       Multi-Stage Sampling  \n",
              "Logistic Regression                     NaN  \n",
              "Decision Tree                           NaN  \n",
              "Naive Bayes                             NaN  \n",
              "Support Vector Machine                  NaN  \n",
              "KNN                                     NaN  "
            ]
          },
          "execution_count": 112,
          "metadata": {},
          "output_type": "execute_result"
        }
      ],
      "source": [
        "df"
      ]
    },
    {
      "cell_type": "markdown",
      "metadata": {
        "id": "86Y9jYCW35BQ"
      },
      "source": [
        "**Sampling Method - 3 (Systematic Sampling)**"
      ]
    },
    {
      "cell_type": "code",
      "execution_count": 113,
      "metadata": {
        "id": "-GbRd9gn4Hvx"
      },
      "outputs": [],
      "source": [
        "from sklearn.model_selection import train_test_split\n",
        "from sklearn import linear_model\n",
        "from sklearn import tree\n",
        "from sklearn.svm import SVC\n",
        "from sklearn.tree import DecisionTreeClassifier\n",
        "from sklearn.neighbors import KNeighborsClassifier\n",
        "from sklearn.naive_bayes import GaussianNB\n",
        "\n",
        "# Systematic Sampling\n",
        "sys_sample_df = x_rs.iloc[::5]\n",
        "\n",
        "# x, y division and train-test split\n",
        "x = sys_sample_df.loc[:,sys_sample_df.columns!='Class']\n",
        "y = sys_sample_df.loc[:,sys_sample_df.columns=='Class']\n",
        "x_train, x_test, y_train, y_test = train_test_split(x, y, test_size=0.25, random_state=42)\n"
      ]
    },
    {
      "cell_type": "code",
      "execution_count": 114,
      "metadata": {
        "colab": {
          "base_uri": "https://localhost:8080/"
        },
        "id": "TC8IKJoS4o8N",
        "outputId": "294a5289-9e64-4bf6-b328-41c31f9cc7d7"
      },
      "outputs": [
        {
          "name": "stderr",
          "output_type": "stream",
          "text": [
            "d:\\VS CODE\\Python\\lib\\site-packages\\sklearn\\utils\\validation.py:1143: DataConversionWarning: A column-vector y was passed when a 1d array was expected. Please change the shape of y to (n_samples, ), for example using ravel().\n",
            "  y = column_or_1d(y, warn=True)\n",
            "d:\\VS CODE\\Python\\lib\\site-packages\\sklearn\\linear_model\\_logistic.py:458: ConvergenceWarning: lbfgs failed to converge (status=1):\n",
            "STOP: TOTAL NO. of ITERATIONS REACHED LIMIT.\n",
            "\n",
            "Increase the number of iterations (max_iter) or scale the data as shown in:\n",
            "    https://scikit-learn.org/stable/modules/preprocessing.html\n",
            "Please also refer to the documentation for alternative solver options:\n",
            "    https://scikit-learn.org/stable/modules/linear_model.html#logistic-regression\n",
            "  n_iter_i = _check_optimize_result(\n"
          ]
        },
        {
          "name": "stdout",
          "output_type": "stream",
          "text": [
            "Accuracy Score:  0.7922077922077922\n"
          ]
        }
      ],
      "source": [
        "# Logistic Regression\n",
        "lr = LogisticRegression()\n",
        "lr.fit(x_train, y_train)\n",
        "y_pred = lr.predict(x_test)\n",
        "print('Accuracy Score: ', accuracy_score(y_test, y_pred))\n",
        "#add accuracy score to dataframe\n",
        "df['Systematic Sampling']['Logistic Regression'] = accuracy_score(y_test, y_pred)"
      ]
    },
    {
      "cell_type": "code",
      "execution_count": 115,
      "metadata": {
        "colab": {
          "base_uri": "https://localhost:8080/"
        },
        "id": "o69wmKQS4tzW",
        "outputId": "51dca77b-58d5-4535-852e-026aebd7ba39"
      },
      "outputs": [
        {
          "name": "stdout",
          "output_type": "stream",
          "text": [
            "Accuracy Score:  0.922077922077922\n"
          ]
        }
      ],
      "source": [
        "# Decision Tree Classifier\n",
        "dt = DecisionTreeClassifier()\n",
        "dt.fit(x_train, y_train)\n",
        "y_pred = dt.predict(x_test)\n",
        "print('Accuracy Score: ', accuracy_score(y_test, y_pred))\n",
        "#add accuracy score to dataframe\n",
        "df['Systematic Sampling']['Decision Tree'] = accuracy_score(y_test, y_pred)"
      ]
    },
    {
      "cell_type": "code",
      "execution_count": 116,
      "metadata": {
        "colab": {
          "base_uri": "https://localhost:8080/"
        },
        "id": "EBtgp8Fb4yH5",
        "outputId": "cc1eee2d-dcd4-4239-de19-7e1600448a4c"
      },
      "outputs": [
        {
          "name": "stdout",
          "output_type": "stream",
          "text": [
            "Accuracy Score:  0.7792207792207793\n"
          ]
        },
        {
          "name": "stderr",
          "output_type": "stream",
          "text": [
            "d:\\VS CODE\\Python\\lib\\site-packages\\sklearn\\utils\\validation.py:1143: DataConversionWarning: A column-vector y was passed when a 1d array was expected. Please change the shape of y to (n_samples, ), for example using ravel().\n",
            "  y = column_or_1d(y, warn=True)\n"
          ]
        }
      ],
      "source": [
        "# Gaussian Naive Bayes\n",
        "gnb = GaussianNB()\n",
        "gnb.fit(x_train, y_train)\n",
        "y_pred = gnb.predict(x_test)\n",
        "print('Accuracy Score: ', accuracy_score(y_test, y_pred))\n",
        "#add accuracy score to dataframe\n",
        "df['Systematic Sampling']['Naive Bayes'] = accuracy_score(y_test, y_pred)"
      ]
    },
    {
      "cell_type": "code",
      "execution_count": 117,
      "metadata": {
        "colab": {
          "base_uri": "https://localhost:8080/"
        },
        "id": "BiTIX3_i41mO",
        "outputId": "f8ad94df-f71d-4eb6-c87e-d54635b08e8d"
      },
      "outputs": [
        {
          "name": "stdout",
          "output_type": "stream",
          "text": [
            "Accuracy Score:  0.6103896103896104\n"
          ]
        },
        {
          "name": "stderr",
          "output_type": "stream",
          "text": [
            "d:\\VS CODE\\Python\\lib\\site-packages\\sklearn\\utils\\validation.py:1143: DataConversionWarning: A column-vector y was passed when a 1d array was expected. Please change the shape of y to (n_samples, ), for example using ravel().\n",
            "  y = column_or_1d(y, warn=True)\n"
          ]
        }
      ],
      "source": [
        "# Support Vector Machine\n",
        "svm = SVC()\n",
        "svm.fit(x_train, y_train)\n",
        "y_pred = svm.predict(x_test)\n",
        "print('Accuracy Score: ', accuracy_score(y_test, y_pred))\n",
        "#add accuracy score to dataframe\n",
        "df['Systematic Sampling']['Support Vector Machine'] = accuracy_score(y_test, y_pred)"
      ]
    },
    {
      "cell_type": "code",
      "execution_count": 118,
      "metadata": {
        "colab": {
          "base_uri": "https://localhost:8080/"
        },
        "id": "Epaj7zKo44uS",
        "outputId": "a8801069-e057-4408-831d-c01311fbdddd"
      },
      "outputs": [
        {
          "name": "stdout",
          "output_type": "stream",
          "text": [
            "Accuracy Score:  0.922077922077922\n"
          ]
        },
        {
          "name": "stderr",
          "output_type": "stream",
          "text": [
            "d:\\VS CODE\\Python\\lib\\site-packages\\sklearn\\neighbors\\_classification.py:215: DataConversionWarning: A column-vector y was passed when a 1d array was expected. Please change the shape of y to (n_samples,), for example using ravel().\n",
            "  return self._fit(X, y)\n"
          ]
        }
      ],
      "source": [
        "# KNN\n",
        "knn = KNeighborsClassifier()\n",
        "knn.fit(x_train, y_train)\n",
        "y_pred = knn.predict(x_test)\n",
        "print('Accuracy Score: ', accuracy_score(y_test, y_pred))\n",
        "#add accuracy score to dataframe\n",
        "df['Systematic Sampling']['KNN'] = accuracy_score(y_test, y_pred)\n"
      ]
    },
    {
      "cell_type": "code",
      "execution_count": 119,
      "metadata": {
        "colab": {
          "base_uri": "https://localhost:8080/",
          "height": 206
        },
        "id": "YcMOMI6D47aT",
        "outputId": "44ebb376-a625-46f1-c5c0-e674766cbca1"
      },
      "outputs": [
        {
          "data": {
            "text/html": [
              "<div>\n",
              "<style scoped>\n",
              "    .dataframe tbody tr th:only-of-type {\n",
              "        vertical-align: middle;\n",
              "    }\n",
              "\n",
              "    .dataframe tbody tr th {\n",
              "        vertical-align: top;\n",
              "    }\n",
              "\n",
              "    .dataframe thead th {\n",
              "        text-align: right;\n",
              "    }\n",
              "</style>\n",
              "<table border=\"1\" class=\"dataframe\">\n",
              "  <thead>\n",
              "    <tr style=\"text-align: right;\">\n",
              "      <th></th>\n",
              "      <th>Simple Random Sampling</th>\n",
              "      <th>Stratified Random Sampling</th>\n",
              "      <th>Systematic Sampling</th>\n",
              "      <th>Cluster Sampling</th>\n",
              "      <th>Multi-Stage Sampling</th>\n",
              "    </tr>\n",
              "  </thead>\n",
              "  <tbody>\n",
              "    <tr>\n",
              "      <th>Logistic Regression</th>\n",
              "      <td>0.88764</td>\n",
              "      <td>0.913265</td>\n",
              "      <td>0.792208</td>\n",
              "      <td>NaN</td>\n",
              "      <td>NaN</td>\n",
              "    </tr>\n",
              "    <tr>\n",
              "      <th>Decision Tree</th>\n",
              "      <td>0.985019</td>\n",
              "      <td>0.969388</td>\n",
              "      <td>0.922078</td>\n",
              "      <td>NaN</td>\n",
              "      <td>NaN</td>\n",
              "    </tr>\n",
              "    <tr>\n",
              "      <th>Naive Bayes</th>\n",
              "      <td>0.749064</td>\n",
              "      <td>0.760204</td>\n",
              "      <td>0.779221</td>\n",
              "      <td>NaN</td>\n",
              "      <td>NaN</td>\n",
              "    </tr>\n",
              "    <tr>\n",
              "      <th>Support Vector Machine</th>\n",
              "      <td>0.689139</td>\n",
              "      <td>0.617347</td>\n",
              "      <td>0.61039</td>\n",
              "      <td>NaN</td>\n",
              "      <td>NaN</td>\n",
              "    </tr>\n",
              "    <tr>\n",
              "      <th>KNN</th>\n",
              "      <td>0.981273</td>\n",
              "      <td>0.959184</td>\n",
              "      <td>0.922078</td>\n",
              "      <td>NaN</td>\n",
              "      <td>NaN</td>\n",
              "    </tr>\n",
              "  </tbody>\n",
              "</table>\n",
              "</div>"
            ],
            "text/plain": [
              "                       Simple Random Sampling Stratified Random Sampling  \\\n",
              "Logistic Regression                   0.88764                   0.913265   \n",
              "Decision Tree                        0.985019                   0.969388   \n",
              "Naive Bayes                          0.749064                   0.760204   \n",
              "Support Vector Machine               0.689139                   0.617347   \n",
              "KNN                                  0.981273                   0.959184   \n",
              "\n",
              "                       Systematic Sampling Cluster Sampling  \\\n",
              "Logistic Regression               0.792208              NaN   \n",
              "Decision Tree                     0.922078              NaN   \n",
              "Naive Bayes                       0.779221              NaN   \n",
              "Support Vector Machine             0.61039              NaN   \n",
              "KNN                               0.922078              NaN   \n",
              "\n",
              "                       Multi-Stage Sampling  \n",
              "Logistic Regression                     NaN  \n",
              "Decision Tree                           NaN  \n",
              "Naive Bayes                             NaN  \n",
              "Support Vector Machine                  NaN  \n",
              "KNN                                     NaN  "
            ]
          },
          "execution_count": 119,
          "metadata": {},
          "output_type": "execute_result"
        }
      ],
      "source": [
        "df"
      ]
    },
    {
      "cell_type": "markdown",
      "metadata": {
        "id": "9846dgjr5CEj"
      },
      "source": [
        "**Sampling Method - 4 (Cluster Sampling)**"
      ]
    },
    {
      "cell_type": "code",
      "execution_count": 120,
      "metadata": {
        "id": "NAZw2N3V5IzT"
      },
      "outputs": [],
      "source": [
        "# Cluster Sampling\n",
        "def get_clustered_Sample(df, n_per_cluster, num_select_clusters):\n",
        "    N = len(df)\n",
        "    K = int(N/n_per_cluster)\n",
        "    data = None\n",
        "    for k in range(K):\n",
        "        sample_k = df.sample(n_per_cluster)\n",
        "        sample_k[\"cluster\"] = np.repeat(k,len(sample_k))\n",
        "        df = df.drop(index = sample_k.index)\n",
        "        data = pd.concat([data,sample_k],axis = 0)\n",
        "    random_chosen_clusters = np.random.randint(0,K,size = num_select_clusters)\n",
        "    samples = data[data.cluster.isin(random_chosen_clusters)]\n",
        "    return(samples)\n",
        "clust_sample = get_clustered_Sample(df = x_rs, n_per_cluster = 20, num_select_clusters = 28)\n",
        "\n",
        "# x, y division and train-test split\n",
        "x = clust_sample.loc[:,clust_sample.columns!='Class']\n",
        "y = clust_sample.loc[:,clust_sample.columns=='Class']\n",
        "from sklearn.model_selection import train_test_split\n",
        "x_train, x_test, y_train, y_test = train_test_split(x, y, test_size=0.25, random_state=42)"
      ]
    },
    {
      "cell_type": "code",
      "execution_count": 121,
      "metadata": {
        "colab": {
          "base_uri": "https://localhost:8080/"
        },
        "id": "nZ2Az4mC5bYY",
        "outputId": "561442b8-0805-4b06-d78c-5fe4cfb069d0"
      },
      "outputs": [
        {
          "name": "stdout",
          "output_type": "stream",
          "text": [
            "Accuracy Score:  0.8956521739130435\n"
          ]
        },
        {
          "name": "stderr",
          "output_type": "stream",
          "text": [
            "d:\\VS CODE\\Python\\lib\\site-packages\\sklearn\\utils\\validation.py:1143: DataConversionWarning: A column-vector y was passed when a 1d array was expected. Please change the shape of y to (n_samples, ), for example using ravel().\n",
            "  y = column_or_1d(y, warn=True)\n",
            "d:\\VS CODE\\Python\\lib\\site-packages\\sklearn\\linear_model\\_logistic.py:458: ConvergenceWarning: lbfgs failed to converge (status=1):\n",
            "STOP: TOTAL NO. of ITERATIONS REACHED LIMIT.\n",
            "\n",
            "Increase the number of iterations (max_iter) or scale the data as shown in:\n",
            "    https://scikit-learn.org/stable/modules/preprocessing.html\n",
            "Please also refer to the documentation for alternative solver options:\n",
            "    https://scikit-learn.org/stable/modules/linear_model.html#logistic-regression\n",
            "  n_iter_i = _check_optimize_result(\n"
          ]
        }
      ],
      "source": [
        "# Logistic Regression\n",
        "lr = LogisticRegression()\n",
        "lr.fit(x_train, y_train)\n",
        "y_pred = lr.predict(x_test)\n",
        "print('Accuracy Score: ', accuracy_score(y_test, y_pred))\n",
        "#add accuracy score to dataframe\n",
        "df['Cluster Sampling']['Logistic Regression'] = accuracy_score(y_test, y_pred)"
      ]
    },
    {
      "cell_type": "code",
      "execution_count": 122,
      "metadata": {
        "colab": {
          "base_uri": "https://localhost:8080/"
        },
        "id": "MC622PK65Yx9",
        "outputId": "d4d08c30-1e13-4612-d02e-8efc7b3b7717"
      },
      "outputs": [
        {
          "name": "stdout",
          "output_type": "stream",
          "text": [
            "Accuracy Score:  0.9826086956521739\n"
          ]
        }
      ],
      "source": [
        "# Decision Tree Classifier\n",
        "dt = DecisionTreeClassifier()\n",
        "dt.fit(x_train, y_train)\n",
        "y_pred = dt.predict(x_test)\n",
        "print('Accuracy Score: ', accuracy_score(y_test, y_pred))\n",
        "#add accuracy score to dataframe\n",
        "df['Cluster Sampling']['Decision Tree'] = accuracy_score(y_test, y_pred)"
      ]
    },
    {
      "cell_type": "code",
      "execution_count": 123,
      "metadata": {
        "colab": {
          "base_uri": "https://localhost:8080/"
        },
        "id": "au6r9RN45VTG",
        "outputId": "2f00d3e5-8806-4e85-a8e8-74cf21edf175"
      },
      "outputs": [
        {
          "name": "stdout",
          "output_type": "stream",
          "text": [
            "Accuracy Score:  0.6521739130434783\n"
          ]
        },
        {
          "name": "stderr",
          "output_type": "stream",
          "text": [
            "d:\\VS CODE\\Python\\lib\\site-packages\\sklearn\\utils\\validation.py:1143: DataConversionWarning: A column-vector y was passed when a 1d array was expected. Please change the shape of y to (n_samples, ), for example using ravel().\n",
            "  y = column_or_1d(y, warn=True)\n"
          ]
        }
      ],
      "source": [
        "# Gaussian Naive Bayes\n",
        "gnb = GaussianNB()\n",
        "gnb.fit(x_train, y_train)\n",
        "y_pred = gnb.predict(x_test)\n",
        "print('Accuracy Score: ', accuracy_score(y_test, y_pred))\n",
        "#add accuracy score to dataframe\n",
        "df['Cluster Sampling']['Naive Bayes'] = accuracy_score(y_test, y_pred)\n"
      ]
    },
    {
      "cell_type": "code",
      "execution_count": 124,
      "metadata": {
        "colab": {
          "base_uri": "https://localhost:8080/"
        },
        "id": "N6ULqUCS5S3J",
        "outputId": "d9f12e63-c7c0-40a4-b030-5a5ff5450e4f"
      },
      "outputs": [
        {
          "name": "stdout",
          "output_type": "stream",
          "text": [
            "Accuracy Score:  0.6695652173913044\n"
          ]
        },
        {
          "name": "stderr",
          "output_type": "stream",
          "text": [
            "d:\\VS CODE\\Python\\lib\\site-packages\\sklearn\\utils\\validation.py:1143: DataConversionWarning: A column-vector y was passed when a 1d array was expected. Please change the shape of y to (n_samples, ), for example using ravel().\n",
            "  y = column_or_1d(y, warn=True)\n"
          ]
        }
      ],
      "source": [
        "# Support Vector Machine\n",
        "svm = SVC()\n",
        "svm.fit(x_train, y_train)\n",
        "y_pred = svm.predict(x_test)\n",
        "print('Accuracy Score: ', accuracy_score(y_test, y_pred))\n",
        "#add accuracy score to dataframe\n",
        "df['Cluster Sampling']['Support Vector Machine'] = accuracy_score(y_test, y_pred)"
      ]
    },
    {
      "cell_type": "code",
      "execution_count": 125,
      "metadata": {
        "colab": {
          "base_uri": "https://localhost:8080/"
        },
        "id": "921GZd2L5P_k",
        "outputId": "f9368a61-8d83-42aa-cb88-2e25fe7ea180"
      },
      "outputs": [
        {
          "name": "stdout",
          "output_type": "stream",
          "text": [
            "Accuracy Score:  0.8\n"
          ]
        },
        {
          "name": "stderr",
          "output_type": "stream",
          "text": [
            "d:\\VS CODE\\Python\\lib\\site-packages\\sklearn\\neighbors\\_classification.py:215: DataConversionWarning: A column-vector y was passed when a 1d array was expected. Please change the shape of y to (n_samples,), for example using ravel().\n",
            "  return self._fit(X, y)\n"
          ]
        }
      ],
      "source": [
        "# KNN\n",
        "knn = KNeighborsClassifier()\n",
        "knn.fit(x_train, y_train)\n",
        "y_pred = knn.predict(x_test)\n",
        "print('Accuracy Score: ', accuracy_score(y_test, y_pred))\n",
        "#add accuracy score to dataframe\n",
        "df['Cluster Sampling']['KNN'] = accuracy_score(y_test, y_pred)"
      ]
    },
    {
      "cell_type": "code",
      "execution_count": 126,
      "metadata": {
        "colab": {
          "base_uri": "https://localhost:8080/",
          "height": 206
        },
        "id": "ThVGD0gA5OV5",
        "outputId": "3710b2e3-0cec-4980-c51a-7cca1965aeb0"
      },
      "outputs": [
        {
          "data": {
            "text/html": [
              "<div>\n",
              "<style scoped>\n",
              "    .dataframe tbody tr th:only-of-type {\n",
              "        vertical-align: middle;\n",
              "    }\n",
              "\n",
              "    .dataframe tbody tr th {\n",
              "        vertical-align: top;\n",
              "    }\n",
              "\n",
              "    .dataframe thead th {\n",
              "        text-align: right;\n",
              "    }\n",
              "</style>\n",
              "<table border=\"1\" class=\"dataframe\">\n",
              "  <thead>\n",
              "    <tr style=\"text-align: right;\">\n",
              "      <th></th>\n",
              "      <th>Simple Random Sampling</th>\n",
              "      <th>Stratified Random Sampling</th>\n",
              "      <th>Systematic Sampling</th>\n",
              "      <th>Cluster Sampling</th>\n",
              "      <th>Multi-Stage Sampling</th>\n",
              "    </tr>\n",
              "  </thead>\n",
              "  <tbody>\n",
              "    <tr>\n",
              "      <th>Logistic Regression</th>\n",
              "      <td>0.88764</td>\n",
              "      <td>0.913265</td>\n",
              "      <td>0.792208</td>\n",
              "      <td>0.895652</td>\n",
              "      <td>NaN</td>\n",
              "    </tr>\n",
              "    <tr>\n",
              "      <th>Decision Tree</th>\n",
              "      <td>0.985019</td>\n",
              "      <td>0.969388</td>\n",
              "      <td>0.922078</td>\n",
              "      <td>0.982609</td>\n",
              "      <td>NaN</td>\n",
              "    </tr>\n",
              "    <tr>\n",
              "      <th>Naive Bayes</th>\n",
              "      <td>0.749064</td>\n",
              "      <td>0.760204</td>\n",
              "      <td>0.779221</td>\n",
              "      <td>0.652174</td>\n",
              "      <td>NaN</td>\n",
              "    </tr>\n",
              "    <tr>\n",
              "      <th>Support Vector Machine</th>\n",
              "      <td>0.689139</td>\n",
              "      <td>0.617347</td>\n",
              "      <td>0.61039</td>\n",
              "      <td>0.669565</td>\n",
              "      <td>NaN</td>\n",
              "    </tr>\n",
              "    <tr>\n",
              "      <th>KNN</th>\n",
              "      <td>0.981273</td>\n",
              "      <td>0.959184</td>\n",
              "      <td>0.922078</td>\n",
              "      <td>0.8</td>\n",
              "      <td>NaN</td>\n",
              "    </tr>\n",
              "  </tbody>\n",
              "</table>\n",
              "</div>"
            ],
            "text/plain": [
              "                       Simple Random Sampling Stratified Random Sampling  \\\n",
              "Logistic Regression                   0.88764                   0.913265   \n",
              "Decision Tree                        0.985019                   0.969388   \n",
              "Naive Bayes                          0.749064                   0.760204   \n",
              "Support Vector Machine               0.689139                   0.617347   \n",
              "KNN                                  0.981273                   0.959184   \n",
              "\n",
              "                       Systematic Sampling Cluster Sampling  \\\n",
              "Logistic Regression               0.792208         0.895652   \n",
              "Decision Tree                     0.922078         0.982609   \n",
              "Naive Bayes                       0.779221         0.652174   \n",
              "Support Vector Machine             0.61039         0.669565   \n",
              "KNN                               0.922078              0.8   \n",
              "\n",
              "                       Multi-Stage Sampling  \n",
              "Logistic Regression                     NaN  \n",
              "Decision Tree                           NaN  \n",
              "Naive Bayes                             NaN  \n",
              "Support Vector Machine                  NaN  \n",
              "KNN                                     NaN  "
            ]
          },
          "execution_count": 126,
          "metadata": {},
          "output_type": "execute_result"
        }
      ],
      "source": [
        "df"
      ]
    },
    {
      "cell_type": "markdown",
      "metadata": {
        "id": "2cV1rsnq5rwc"
      },
      "source": [
        "**Sampling Method - 5 Multi-Stage Sampling (Cluster and Simple Random)**"
      ]
    },
    {
      "cell_type": "code",
      "execution_count": 127,
      "metadata": {
        "colab": {
          "base_uri": "https://localhost:8080/"
        },
        "id": "4R1dXcs65xFo",
        "outputId": "be04211d-7bad-4897-e55b-4150e222cb81"
      },
      "outputs": [
        {
          "name": "stdout",
          "output_type": "stream",
          "text": [
            "Accuracy Score:  0.86\n",
            "Accuracy Score:  0.94\n",
            "Accuracy Score:  0.72\n",
            "Accuracy Score:  0.6\n",
            "Accuracy Score:  0.86\n"
          ]
        },
        {
          "name": "stderr",
          "output_type": "stream",
          "text": [
            "d:\\VS CODE\\Python\\lib\\site-packages\\sklearn\\utils\\validation.py:1143: DataConversionWarning: A column-vector y was passed when a 1d array was expected. Please change the shape of y to (n_samples, ), for example using ravel().\n",
            "  y = column_or_1d(y, warn=True)\n",
            "d:\\VS CODE\\Python\\lib\\site-packages\\sklearn\\linear_model\\_logistic.py:458: ConvergenceWarning: lbfgs failed to converge (status=1):\n",
            "STOP: TOTAL NO. of ITERATIONS REACHED LIMIT.\n",
            "\n",
            "Increase the number of iterations (max_iter) or scale the data as shown in:\n",
            "    https://scikit-learn.org/stable/modules/preprocessing.html\n",
            "Please also refer to the documentation for alternative solver options:\n",
            "    https://scikit-learn.org/stable/modules/linear_model.html#logistic-regression\n",
            "  n_iter_i = _check_optimize_result(\n",
            "d:\\VS CODE\\Python\\lib\\site-packages\\sklearn\\utils\\validation.py:1143: DataConversionWarning: A column-vector y was passed when a 1d array was expected. Please change the shape of y to (n_samples, ), for example using ravel().\n",
            "  y = column_or_1d(y, warn=True)\n",
            "d:\\VS CODE\\Python\\lib\\site-packages\\sklearn\\utils\\validation.py:1143: DataConversionWarning: A column-vector y was passed when a 1d array was expected. Please change the shape of y to (n_samples, ), for example using ravel().\n",
            "  y = column_or_1d(y, warn=True)\n",
            "d:\\VS CODE\\Python\\lib\\site-packages\\sklearn\\neighbors\\_classification.py:215: DataConversionWarning: A column-vector y was passed when a 1d array was expected. Please change the shape of y to (n_samples,), for example using ravel().\n",
            "  return self._fit(X, y)\n"
          ]
        }
      ],
      "source": [
        "# Multi-Stage Sampling (Cluster sampling then simple random sampling)\n",
        "def get_clustered_Sample(df, n_per_cluster, num_select_clusters):\n",
        "    N = len(df)\n",
        "    K = int(N/n_per_cluster)\n",
        "    data = None\n",
        "    for k in range(K):\n",
        "        sample_k = df.sample(n_per_cluster)\n",
        "        sample_k[\"cluster\"] = np.repeat(k,len(sample_k))\n",
        "        df = df.drop(index = sample_k.index)\n",
        "        data = pd.concat([data,sample_k],axis = 0)\n",
        "    random_chosen_clusters = np.random.randint(0,K,size = num_select_clusters)\n",
        "    samples = data[data.cluster.isin(random_chosen_clusters)]\n",
        "    return(samples)\n",
        "clust_sample = get_clustered_Sample(df = x_rs, n_per_cluster = 20, num_select_clusters = 20)\n",
        "mix_sample = clust_sample.sample(n = 200, random_state=42)\n",
        "\n",
        "# x and y division\n",
        "x = mix_sample.loc[:,mix_sample.columns!='Class']\n",
        "y = mix_sample.loc[:,mix_sample.columns=='Class']\n",
        "\n",
        "# Training-Testing Splitting\n",
        "from sklearn.model_selection import train_test_split\n",
        "x_train, x_test, y_train, y_test = train_test_split(x, y, test_size=0.25, random_state=42)\n",
        "\n",
        "# Logistic Regression\n",
        "lr = LogisticRegression()\n",
        "lr.fit(x_train, y_train)\n",
        "y_pred = lr.predict(x_test)\n",
        "print('Accuracy Score: ', accuracy_score(y_test, y_pred))\n",
        "#add accuracy score to dataframe\n",
        "df['Multi-Stage Sampling']['Logistic Regression'] = accuracy_score(y_test, y_pred)\n",
        "\n",
        "# Decision Tree Classifier\n",
        "dt = DecisionTreeClassifier()\n",
        "dt.fit(x_train, y_train)\n",
        "y_pred = dt.predict(x_test)\n",
        "print('Accuracy Score: ', accuracy_score(y_test, y_pred))\n",
        "#add accuracy score to dataframe\n",
        "df['Multi-Stage Sampling']['Decision Tree'] = accuracy_score(y_test, y_pred)\n",
        "\n",
        "# Gaussian Naive Bayes\n",
        "gnb = GaussianNB()\n",
        "gnb.fit(x_train, y_train)\n",
        "y_pred = gnb.predict(x_test)\n",
        "print('Accuracy Score: ', accuracy_score(y_test, y_pred))\n",
        "#add accuracy score to dataframe\n",
        "df['Multi-Stage Sampling']['Naive Bayes'] = accuracy_score(y_test, y_pred)\n",
        "\n",
        "# Support Vector Machine\n",
        "svm = SVC()\n",
        "svm.fit(x_train, y_train)\n",
        "y_pred = svm.predict(x_test)\n",
        "print('Accuracy Score: ', accuracy_score(y_test, y_pred))\n",
        "#add accuracy score to dataframe\n",
        "df['Multi-Stage Sampling']['Support Vector Machine'] = accuracy_score(y_test, y_pred)\n",
        "\n",
        "# KNN\n",
        "knn = KNeighborsClassifier()\n",
        "knn.fit(x_train, y_train)\n",
        "y_pred = knn.predict(x_test)\n",
        "print('Accuracy Score: ', accuracy_score(y_test, y_pred))\n",
        "#add accuracy score to dataframe\n",
        "df['Multi-Stage Sampling']['KNN'] = accuracy_score(y_test, y_pred)\n"
      ]
    },
    {
      "cell_type": "code",
      "execution_count": 128,
      "metadata": {
        "colab": {
          "base_uri": "https://localhost:8080/",
          "height": 206
        },
        "id": "8ngx4UCo6P2A",
        "outputId": "2e87777c-d145-491e-be73-583c5f3f3f76"
      },
      "outputs": [
        {
          "data": {
            "text/html": [
              "<div>\n",
              "<style scoped>\n",
              "    .dataframe tbody tr th:only-of-type {\n",
              "        vertical-align: middle;\n",
              "    }\n",
              "\n",
              "    .dataframe tbody tr th {\n",
              "        vertical-align: top;\n",
              "    }\n",
              "\n",
              "    .dataframe thead th {\n",
              "        text-align: right;\n",
              "    }\n",
              "</style>\n",
              "<table border=\"1\" class=\"dataframe\">\n",
              "  <thead>\n",
              "    <tr style=\"text-align: right;\">\n",
              "      <th></th>\n",
              "      <th>Simple Random Sampling</th>\n",
              "      <th>Stratified Random Sampling</th>\n",
              "      <th>Systematic Sampling</th>\n",
              "      <th>Cluster Sampling</th>\n",
              "      <th>Multi-Stage Sampling</th>\n",
              "    </tr>\n",
              "  </thead>\n",
              "  <tbody>\n",
              "    <tr>\n",
              "      <th>Logistic Regression</th>\n",
              "      <td>0.88764</td>\n",
              "      <td>0.913265</td>\n",
              "      <td>0.792208</td>\n",
              "      <td>0.895652</td>\n",
              "      <td>0.86</td>\n",
              "    </tr>\n",
              "    <tr>\n",
              "      <th>Decision Tree</th>\n",
              "      <td>0.985019</td>\n",
              "      <td>0.969388</td>\n",
              "      <td>0.922078</td>\n",
              "      <td>0.982609</td>\n",
              "      <td>0.94</td>\n",
              "    </tr>\n",
              "    <tr>\n",
              "      <th>Naive Bayes</th>\n",
              "      <td>0.749064</td>\n",
              "      <td>0.760204</td>\n",
              "      <td>0.779221</td>\n",
              "      <td>0.652174</td>\n",
              "      <td>0.72</td>\n",
              "    </tr>\n",
              "    <tr>\n",
              "      <th>Support Vector Machine</th>\n",
              "      <td>0.689139</td>\n",
              "      <td>0.617347</td>\n",
              "      <td>0.61039</td>\n",
              "      <td>0.669565</td>\n",
              "      <td>0.6</td>\n",
              "    </tr>\n",
              "    <tr>\n",
              "      <th>KNN</th>\n",
              "      <td>0.981273</td>\n",
              "      <td>0.959184</td>\n",
              "      <td>0.922078</td>\n",
              "      <td>0.8</td>\n",
              "      <td>0.86</td>\n",
              "    </tr>\n",
              "  </tbody>\n",
              "</table>\n",
              "</div>"
            ],
            "text/plain": [
              "                       Simple Random Sampling Stratified Random Sampling  \\\n",
              "Logistic Regression                   0.88764                   0.913265   \n",
              "Decision Tree                        0.985019                   0.969388   \n",
              "Naive Bayes                          0.749064                   0.760204   \n",
              "Support Vector Machine               0.689139                   0.617347   \n",
              "KNN                                  0.981273                   0.959184   \n",
              "\n",
              "                       Systematic Sampling Cluster Sampling  \\\n",
              "Logistic Regression               0.792208         0.895652   \n",
              "Decision Tree                     0.922078         0.982609   \n",
              "Naive Bayes                       0.779221         0.652174   \n",
              "Support Vector Machine             0.61039         0.669565   \n",
              "KNN                               0.922078              0.8   \n",
              "\n",
              "                       Multi-Stage Sampling  \n",
              "Logistic Regression                    0.86  \n",
              "Decision Tree                          0.94  \n",
              "Naive Bayes                            0.72  \n",
              "Support Vector Machine                  0.6  \n",
              "KNN                                    0.86  "
            ]
          },
          "execution_count": 128,
          "metadata": {},
          "output_type": "execute_result"
        }
      ],
      "source": [
        "df"
      ]
    },
    {
      "cell_type": "markdown",
      "metadata": {
        "id": "o-TjWzbJ6UUb"
      },
      "source": [
        "# Result Table"
      ]
    },
    {
      "cell_type": "code",
      "execution_count": 129,
      "metadata": {
        "id": "Fedm_8506ab6"
      },
      "outputs": [
        {
          "data": {
            "text/html": [
              "<div>\n",
              "<style scoped>\n",
              "    .dataframe tbody tr th:only-of-type {\n",
              "        vertical-align: middle;\n",
              "    }\n",
              "\n",
              "    .dataframe tbody tr th {\n",
              "        vertical-align: top;\n",
              "    }\n",
              "\n",
              "    .dataframe thead th {\n",
              "        text-align: right;\n",
              "    }\n",
              "</style>\n",
              "<table border=\"1\" class=\"dataframe\">\n",
              "  <thead>\n",
              "    <tr style=\"text-align: right;\">\n",
              "      <th></th>\n",
              "      <th>Simple Random Sampling</th>\n",
              "      <th>Stratified Random Sampling</th>\n",
              "      <th>Systematic Sampling</th>\n",
              "      <th>Cluster Sampling</th>\n",
              "      <th>Multi-Stage Sampling</th>\n",
              "    </tr>\n",
              "  </thead>\n",
              "  <tbody>\n",
              "    <tr>\n",
              "      <th>Logistic Regression</th>\n",
              "      <td>0.88764</td>\n",
              "      <td>0.913265</td>\n",
              "      <td>0.792208</td>\n",
              "      <td>0.895652</td>\n",
              "      <td>0.86</td>\n",
              "    </tr>\n",
              "    <tr>\n",
              "      <th>Decision Tree</th>\n",
              "      <td>0.985019</td>\n",
              "      <td>0.969388</td>\n",
              "      <td>0.922078</td>\n",
              "      <td>0.982609</td>\n",
              "      <td>0.94</td>\n",
              "    </tr>\n",
              "    <tr>\n",
              "      <th>Naive Bayes</th>\n",
              "      <td>0.749064</td>\n",
              "      <td>0.760204</td>\n",
              "      <td>0.779221</td>\n",
              "      <td>0.652174</td>\n",
              "      <td>0.72</td>\n",
              "    </tr>\n",
              "    <tr>\n",
              "      <th>Support Vector Machine</th>\n",
              "      <td>0.689139</td>\n",
              "      <td>0.617347</td>\n",
              "      <td>0.61039</td>\n",
              "      <td>0.669565</td>\n",
              "      <td>0.6</td>\n",
              "    </tr>\n",
              "    <tr>\n",
              "      <th>KNN</th>\n",
              "      <td>0.981273</td>\n",
              "      <td>0.959184</td>\n",
              "      <td>0.922078</td>\n",
              "      <td>0.8</td>\n",
              "      <td>0.86</td>\n",
              "    </tr>\n",
              "  </tbody>\n",
              "</table>\n",
              "</div>"
            ],
            "text/plain": [
              "                       Simple Random Sampling Stratified Random Sampling  \\\n",
              "Logistic Regression                   0.88764                   0.913265   \n",
              "Decision Tree                        0.985019                   0.969388   \n",
              "Naive Bayes                          0.749064                   0.760204   \n",
              "Support Vector Machine               0.689139                   0.617347   \n",
              "KNN                                  0.981273                   0.959184   \n",
              "\n",
              "                       Systematic Sampling Cluster Sampling  \\\n",
              "Logistic Regression               0.792208         0.895652   \n",
              "Decision Tree                     0.922078         0.982609   \n",
              "Naive Bayes                       0.779221         0.652174   \n",
              "Support Vector Machine             0.61039         0.669565   \n",
              "KNN                               0.922078              0.8   \n",
              "\n",
              "                       Multi-Stage Sampling  \n",
              "Logistic Regression                    0.86  \n",
              "Decision Tree                          0.94  \n",
              "Naive Bayes                            0.72  \n",
              "Support Vector Machine                  0.6  \n",
              "KNN                                    0.86  "
            ]
          },
          "execution_count": 129,
          "metadata": {},
          "output_type": "execute_result"
        }
      ],
      "source": [
        "#index the datafram and name columns as Models \n",
        "df"
      ]
    },
    {
      "attachments": {},
      "cell_type": "markdown",
      "metadata": {},
      "source": [
        "# Conclusion\n",
        "The Highest Accuracy achieved is DECISION TREE with SIMPLE RANDOM SAMPLING with 0.985019"
      ]
    },
    {
      "cell_type": "code",
      "execution_count": 133,
      "metadata": {},
      "outputs": [],
      "source": [
        "#write a description of the entire notebook\n",
        "description = \"\"\"\n",
        "This notebook is a comparison of different sampling techniques on the credit card fraud dataset.\n",
        "The dataset is highly imbalanced and the techniques used are:\n",
        "1. Simple Random Sampling\n",
        "2. Stratified Sampling\n",
        "3. Systematic Sampling\n",
        "4. Cluster Sampling\n",
        "5. Multi-Stage Sampling \n",
        "\n",
        "The models used are:\n",
        "1. Logistic Regression\n",
        "2. Decision Tree Classifier\n",
        "3. Gaussian Naive Bayes\n",
        "4. Support Vector Machine\n",
        "5. KNN\n",
        "\"\"\"\n",
        "\"\"\"Write the dataframe to text\"\"\"\n",
        "#also write this submission by Rishab Chakrabarti\n",
        "description1 = \"\"\"\n",
        "By Understanding this we get highest accuracy for Decision Tree Classifier in Simple Random Sampling with 98.5019% accuracy.\n",
        "This was created by Rishab Chakrabarti, Roll no:102003688\"\"\"\n",
        "#write the description to a text file and the dataframe \n",
        "with open('submission.txt', 'w') as f:\n",
        "    f.write(description)\n",
        "    f.write(df.to_string())\n",
        "    f.write(description1)\n"
      ]
    }
  ],
  "metadata": {
    "colab": {
      "provenance": []
    },
    "kernelspec": {
      "display_name": "Python 3",
      "language": "python",
      "name": "python3"
    },
    "language_info": {
      "codemirror_mode": {
        "name": "ipython",
        "version": 3
      },
      "file_extension": ".py",
      "mimetype": "text/x-python",
      "name": "python",
      "nbconvert_exporter": "python",
      "pygments_lexer": "ipython3",
      "version": "3.10.2"
    },
    "vscode": {
      "interpreter": {
        "hash": "7d5b9428126ab9b33c3929882c4dedd5ef3e77437e4f384bb21fdad79f0064eb"
      }
    }
  },
  "nbformat": 4,
  "nbformat_minor": 0
}
